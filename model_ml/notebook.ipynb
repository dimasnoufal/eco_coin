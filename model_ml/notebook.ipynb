{
 "cells": [
  {
   "cell_type": "code",
   "execution_count": 91,
   "id": "891ba230",
   "metadata": {},
   "outputs": [],
   "source": [
    "import os, shutil\n",
    "import random\n",
    "import numpy as np\n",
    "import pandas as pd\n",
    "import matplotlib.pyplot as plt\n",
    "import seaborn as sns\n",
    "from pathlib import Path\n",
    "\n",
    "from tqdm.notebook import tqdm as tq"
   ]
  },
  {
   "cell_type": "code",
   "execution_count": 92,
   "id": "0c7150ec",
   "metadata": {},
   "outputs": [],
   "source": [
    "import cv2\n",
    "import skimage\n",
    "\n",
    "from PIL import Image\n",
    "from skimage import io\n",
    "from skimage.transform import resize, rotate, AffineTransform, warp\n",
    "from skimage.exposure import adjust_gamma\n",
    "from skimage.util import random_noise, img_as_ubyte"
   ]
  },
  {
   "cell_type": "code",
   "execution_count": 93,
   "id": "a4187d84",
   "metadata": {},
   "outputs": [],
   "source": [
    "import keras\n",
    "import tensorflow as tf\n",
    "\n",
    "from sklearn.model_selection import train_test_split\n",
    "\n",
    "from keras import Model, layers\n",
    "from keras.preprocessing import image\n",
    "from tensorflow.keras.preprocessing.image import ImageDataGenerator\n",
    "from keras.optimizers import Adam\n",
    "from keras.applications import MobileNetV2\n",
    "from keras.layers import Conv2D, MaxPool2D, Dense, Flatten, Dropout, BatchNormalization, GlobalAveragePooling2D\n",
    "from keras.callbacks import EarlyStopping, ReduceLROnPlateau\n",
    "from keras.losses import SparseCategoricalCrossentropy\n",
    "from keras.models import Sequential\n",
    "from keras.callbacks import Callback\n",
    "from keras.layers import TFSMLayer"
   ]
  },
  {
   "cell_type": "code",
   "execution_count": 99,
   "id": "a4541eeb",
   "metadata": {},
   "outputs": [],
   "source": [
    "import warnings\n",
    "warnings.simplefilter(action='ignore', category=FutureWarning)"
   ]
  },
  {
   "cell_type": "code",
   "execution_count": 100,
   "id": "21a6d6f6",
   "metadata": {},
   "outputs": [],
   "source": [
    "trash_img = {}\n",
    "\n",
    "path = \"./Dataset_Final\"\n",
    "\n",
    "for i in os.listdir(path):\n",
    "    trash_img[i] = os.listdir(os.path.join(path, i))"
   ]
  },
  {
   "cell_type": "code",
   "execution_count": 101,
   "id": "3d0e4a26",
   "metadata": {},
   "outputs": [
    {
     "name": "stdout",
     "output_type": "stream",
     "text": [
      "0 Sampah-Anorganik\n",
      "1 Sampah-B3\n",
      "2 Sampah-Elektronik\n",
      "3 Sampah-Organik\n",
      "4 Sampah-Residu\n"
     ]
    }
   ],
   "source": [
    "for i, class_name in enumerate(os.listdir(path)):\n",
    "    print(i, class_name)"
   ]
  },
  {
   "cell_type": "code",
   "execution_count": 102,
   "id": "aca0e4c7",
   "metadata": {},
   "outputs": [
    {
     "data": {
      "image/png": "[encoded data removed]",
      "text/plain": [
       "<Figure size 600x600 with 1 Axes>"
      ]
     },
     "metadata": {},
     "output_type": "display_data"
    }
   ],
   "source": [
    "trash_path = \"./Dataset_Final\"\n",
    "\n",
    "file_name = []\n",
    "labels = []\n",
    "full_path = []\n",
    "\n",
    "for path, subdirs, files in os.walk(trash_path):\n",
    "    for name in files:\n",
    "        full_path.append(os.path.join(path, name))\n",
    "        labels.append(os.path.basename(path))\n",
    "        file_name.append(name)\n",
    "\n",
    "distribution_train = pd.DataFrame({\"path\": full_path, 'file_name': file_name, 'labels': labels})\n",
    "\n",
    "Label = distribution_train['labels']\n",
    "plt.figure(figsize=(6,6))\n",
    "sns.set_style(\"darkgrid\")\n",
    "plot_data = sns.countplot(Label)"
   ]
  },
  {
   "cell_type": "code",
   "execution_count": 103,
   "id": "cea288ce",
   "metadata": {},
   "outputs": [],
   "source": [
    "def anticlockwise_rotation(img):\n",
    "    img = cv2.cvtColor(img, 0)\n",
    "    img = cv2.resize(img, (224, 224))\n",
    "    sudut = random.randint(0, 180)\n",
    "    return rotate(img, sudut)\n",
    "\n",
    "def clockwise_rotation(img):\n",
    "    img = cv2.cvtColor(img, 0)\n",
    "    img = cv2.resize(img, (224, 224))\n",
    "    sudut = random.randint(0, 180)\n",
    "    return rotate(img, -sudut)\n",
    "\n",
    "def flip_up_down(img):\n",
    "    img = cv2.cvtColor(img, 0)\n",
    "    img = cv2.resize(img, (224, 224))\n",
    "    return np.flipud(img)\n",
    "\n",
    "def add_brightness(img):\n",
    "    img = cv2.cvtColor(img, 0)\n",
    "    img = cv2.resize(img, (224, 224))\n",
    "    img = adjust_gamma(img, gamma=0.5, gain=1)\n",
    "    return img\n",
    "\n",
    "def blur_image(img):\n",
    "    img = cv2.cvtColor(img, 0)\n",
    "    img = cv2.resize(img, (224, 224))\n",
    "    return cv2.GaussianBlur(img, (7, 7), 0)\n",
    "\n",
    "def sheared(img):\n",
    "    img = cv2.cvtColor(img, 0)\n",
    "    img = cv2.resize(img, (224, 224))\n",
    "    transform = AffineTransform(shear=0.25)\n",
    "    shear_img = warp(img, transform, mode=\"wrap\")\n",
    "    return shear_img\n",
    "\n",
    "def warp_shift(img):\n",
    "    img = cv2.cvtColor(img, 0)\n",
    "    img = cv2.resize(img, (224, 224))\n",
    "    transform = AffineTransform(translation=(0, 30))\n",
    "    warp_img = warp(img, transform, mode=\"wrap\")\n",
    "    return warp_img"
   ]
  },
  {
   "cell_type": "code",
   "execution_count": 104,
   "id": "0de42b1e",
   "metadata": {},
   "outputs": [],
   "source": [
    "transformations = {\n",
    "    'rotate anticlockwise': anticlockwise_rotation,\n",
    "    'rotate clockwise': clockwise_rotation,\n",
    "    'warp shift': warp_shift,\n",
    "    'bluring image': blur_image,\n",
    "    'add brightness': add_brightness,\n",
    "    'flip up down': flip_up_down,\n",
    "    'shear image': sheared\n",
    "}\n",
    "\n",
    "data_classes = {\n",
    "    \"Sampah-B3\": {\n",
    "        \"image_path\": \"./Dataset_Final/Sampah-B3\",\n",
    "        \"augmented_path\": \"./Dataset_Final/Sampah-B3\",\n",
    "        \"target\": 300\n",
    "    },\n",
    "    \"Sampah-Elektronik\": {\n",
    "        \"image_path\": \"./Dataset_Final/Sampah-Elektronik\", \n",
    "        \"augmented_path\": \"./Dataset_Final/Sampah-Elektronik\",\n",
    "        \"target\": 50\n",
    "    },\n",
    "    \"Sampah-Organik\": {\n",
    "        \"image_path\": \"./Dataset_Final/Sampah-Organik\",\n",
    "        \"augmented_path\": \"./Dataset_Final/Sampah-Organik\",\n",
    "        \"target\": 200\n",
    "    },\n",
    "    \"Sampah-Residu\": {\n",
    "        \"image_path\": \"./Dataset_Final/Sampah-Residu\",\n",
    "        \"augmented_path\": \"./Dataset_Final/Sampah-Residu\",\n",
    "        \"target\": 500\n",
    "    }\n",
    "}\n",
    "\n",
    "for kelas_data, data in data_classes.items():\n",
    "    image_path = data[\"image_path\"]\n",
    "    augmented_path = data[\"augmented_path\"]\n",
    "    images_to_generate = data[\"target\"]\n",
    "\n",
    "    images = []\n",
    "\n",
    "    for img in os.listdir(image_path):\n",
    "        images.append(os.path.join(image_path, img))\n",
    "\n",
    "    i = 1\n",
    "    while i <= images_to_generate:\n",
    "        image = random.choice(images)\n",
    "        try:\n",
    "            original_img = io.imread(image)\n",
    "            transformed_img = None\n",
    "            n = 0\n",
    "            transformation_count = random.randint(1, len(transformations))\n",
    "\n",
    "            while n <= transformation_count:\n",
    "                key = random.choice(list(transformations))\n",
    "                transformed_img = transformations[key](original_img)\n",
    "                n =  n + 1\n",
    "            \n",
    "            original_name = os.path.basename(image)\n",
    "            filename = f\"{os.path.splitext(original_name)[0]}_augmented_{i}.jpg\"\n",
    "            new_image_path = os.path.join(image_path, filename)\n",
    "\n",
    "            transformed_img = img_as_ubyte(transformed_img)\n",
    "            cv2.imwrite(new_image_path, transformed_img)\n",
    "            i += 1\n",
    "\n",
    "        except ValueError as e:\n",
    "            print('could not read the ', image, ' :', e, ' hence skipping it')\n"
   ]
  },
  {
   "cell_type": "code",
   "execution_count": 105,
   "id": "ce502526",
   "metadata": {},
   "outputs": [
    {
     "data": {
      "image/png": "[encoded data removed]",
      "text/plain": [
       "<Figure size 600x600 with 1 Axes>"
      ]
     },
     "metadata": {},
     "output_type": "display_data"
    }
   ],
   "source": [
    "trash_path = \"./Dataset_Final\"\n",
    "\n",
    "file_name = []\n",
    "labels = []\n",
    "full_path = []\n",
    "\n",
    "for path, subdirs, files in os.walk(trash_path):\n",
    "    for name in files:\n",
    "        full_path.append(os.path.join(path, name))\n",
    "        labels.append(os.path.basename(path))\n",
    "        file_name.append(name)\n",
    "\n",
    "distribution_train = pd.DataFrame({\"path\": full_path, 'file_name': file_name, 'labels': labels})\n",
    "\n",
    "Label = distribution_train['labels']\n",
    "plt.figure(figsize=(6,6))\n",
    "sns.set_style(\"darkgrid\")\n",
    "plot_data = sns.countplot(Label)"
   ]
  },
  {
   "cell_type": "code",
   "execution_count": 106,
   "id": "84052795",
   "metadata": {},
   "outputs": [
    {
     "name": "stdout",
     "output_type": "stream",
     "text": [
      "plastic1.jpg Sampah-Anorganik ./Dataset_Final\\Sampah-Anorganik\\plastic1.jpg\n"
     ]
    }
   ],
   "source": [
    "print(file_name[0], labels[0], full_path[0])"
   ]
  },
  {
   "cell_type": "code",
   "execution_count": 107,
   "id": "b5cb4d7b",
   "metadata": {},
   "outputs": [
    {
     "data": {
      "text/plain": [
       "labels\n",
       "Sampah-Anorganik     2200\n",
       "Sampah-B3            2189\n",
       "Sampah-Elektronik    2210\n",
       "Sampah-Organik       2182\n",
       "Sampah-Residu        2144\n",
       "dtype: int64"
      ]
     },
     "execution_count": 107,
     "metadata": {},
     "output_type": "execute_result"
    }
   ],
   "source": [
    "df = pd.DataFrame({\"path\": full_path, 'file_name': file_name, 'labels': labels})\n",
    "\n",
    "df.groupby(['labels']).size()"
   ]
  },
  {
   "cell_type": "code",
   "execution_count": 108,
   "id": "a979982c",
   "metadata": {},
   "outputs": [],
   "source": [
    "X = df['path']\n",
    "y = df['labels']\n",
    "\n",
    "x_train, x_test, y_train, y_test = train_test_split(X, y, test_size=0.2, random_state=100)"
   ]
  },
  {
   "cell_type": "code",
   "execution_count": 109,
   "id": "80573031",
   "metadata": {},
   "outputs": [],
   "source": [
    "df_tr = pd.DataFrame({'path': x_train, 'labels': y_train, 'set': 'train'})\n",
    "df_te = pd.DataFrame({'path': x_test, 'labels': y_test, 'set': 'test'})"
   ]
  },
  {
   "cell_type": "code",
   "execution_count": 110,
   "id": "a379e174",
   "metadata": {},
   "outputs": [
    {
     "name": "stdout",
     "output_type": "stream",
     "text": [
      "set    labels           \n",
      "test   Sampah-Anorganik      455\n",
      "       Sampah-B3             442\n",
      "       Sampah-Elektronik     410\n",
      "       Sampah-Organik        433\n",
      "       Sampah-Residu         445\n",
      "train  Sampah-Anorganik     1745\n",
      "       Sampah-B3            1747\n",
      "       Sampah-Elektronik    1800\n",
      "       Sampah-Organik       1749\n",
      "       Sampah-Residu        1699\n",
      "dtype: int64 \n",
      "\n",
      "                                                   path            labels  \\\n",
      "7566         ./Dataset_Final\\Sampah-Residu\\trash479.jpg     Sampah-Residu   \n",
      "713            ./Dataset_Final\\Sampah-B3\\battery977.jpg         Sampah-B3   \n",
      "5119    ./Dataset_Final\\Sampah-Anorganik\\plastic640.jpg  Sampah-Anorganik   \n",
      "5534   ./Dataset_Final\\Sampah-Anorganik\\plastic1315.jpg  Sampah-Anorganik   \n",
      "4343  ./Dataset_Final\\Sampah-B3\\battery1413_augmente...         Sampah-B3   \n",
      "\n",
      "        set  \n",
      "7566  train  \n",
      "713   train  \n",
      "5119  train  \n",
      "5534  train  \n",
      "4343  train  \n"
     ]
    }
   ],
   "source": [
    "df_all = pd.concat([df_tr, df_te], ignore_index=True)\n",
    "\n",
    "print(df_all.groupby(['set', 'labels']).size(), '\\n')\n",
    "print(df_all.sample(5))"
   ]
  },
  {
   "cell_type": "code",
   "execution_count": 111,
   "id": "1697102d",
   "metadata": {},
   "outputs": [],
   "source": [
    "datasource_path  = \"./Dataset_Final\"\n",
    "dataset_path = \"./Dataset_Final_Preprocess\""
   ]
  },
  {
   "cell_type": "code",
   "execution_count": 112,
   "id": "0e47fa41",
   "metadata": {},
   "outputs": [
    {
     "data": {
      "application/vnd.jupyter.widget-view+json": {
       "model_id": "5be01691e3104a8fa837523a5c665953",
       "version_major": 2,
       "version_minor": 0
      },
      "text/plain": [
       "0it [00:00, ?it/s]"
      ]
     },
     "metadata": {},
     "output_type": "display_data"
    }
   ],
   "source": [
    "for index, row in tq(df_all.iterrows()):\n",
    "    file_path = row['path']\n",
    "\n",
    "    if not os.path.exists(file_path):\n",
    "        file_path = os.path.join(datasource_path, row['labels'], row['image'])\n",
    "\n",
    "    dest_folder = os.path.join(dataset_path, row['set'], row['labels'])\n",
    "    if not os.path.exists(dest_folder):\n",
    "        os.makedirs(dest_folder)\n",
    "\n",
    "    destination_file_name = os.path.basename(file_path)\n",
    "\n",
    "    file_dest = os.path.join(dest_folder, destination_file_name)\n",
    "\n",
    "    if not os.path.exists(file_dest):\n",
    "        shutil.copy2(file_path, file_dest)\n"
   ]
  },
  {
   "cell_type": "code",
   "execution_count": 113,
   "id": "69f3d377",
   "metadata": {},
   "outputs": [
    {
     "name": "stdout",
     "output_type": "stream",
     "text": [
      "Total sampah anorganik images di train set: 4996\n",
      "Total sampah b3 images di train set: 3901\n",
      "Total sampah elektronik images di train set: 3827\n",
      "Total sampah organik images di train set: 3821\n",
      "Total sampah residu images di train set: 3956\n",
      "\n",
      "\n",
      "Total sampah anorganik images di test set: 1374\n",
      "Total sampah b3 images di test set: 1168\n",
      "Total sampah elektronik images di test set: 1172\n",
      "Total sampah organik images di test set: 1163\n",
      "Total sampah residu images di test set: 1236\n"
     ]
    }
   ],
   "source": [
    "TRAIN_DIR = \"./Dataset_Final_Preprocess/train\"\n",
    "TEST_DIR = \"./Dataset_Final_Preprocess/test\"\n",
    "\n",
    "train_anorganik = os.path.join(TRAIN_DIR + '/Sampah-Anorganik')\n",
    "train_b3 = os.path.join(TRAIN_DIR + '/Sampah-B3')\n",
    "train_elektronik = os.path.join(TRAIN_DIR + '/Sampah-Elektronik')\n",
    "train_organik = os.path.join(TRAIN_DIR + '/Sampah-Organik')\n",
    "train_residu = os.path.join(TRAIN_DIR + '/Sampah-Residu')\n",
    "test_anorganik = os.path.join(TEST_DIR + '/Sampah-Anorganik')\n",
    "test_b3 = os.path.join(TEST_DIR + '/Sampah-B3')\n",
    "test_elektronik = os.path.join(TEST_DIR + '/Sampah-Elektronik')\n",
    "test_organik = os.path.join(TEST_DIR + '/Sampah-Organik')\n",
    "test_residu = os.path.join(TEST_DIR + '/Sampah-Residu')\n",
    "\n",
    "print(\"Total sampah anorganik images di train set:\", len(os.listdir(train_anorganik)))\n",
    "print(\"Total sampah b3 images di train set:\", len(os.listdir(train_b3)))\n",
    "print(\"Total sampah elektronik images di train set:\", len(os.listdir(train_elektronik)))\n",
    "print(\"Total sampah organik images di train set:\", len(os.listdir(train_organik)))\n",
    "print(\"Total sampah residu images di train set:\", len(os.listdir(train_residu)))\n",
    "print(\"\\n\")\n",
    "print(\"Total sampah anorganik images di test set:\", len(os.listdir(test_anorganik)))\n",
    "print(\"Total sampah b3 images di test set:\", len(os.listdir(test_b3)))\n",
    "print(\"Total sampah elektronik images di test set:\", len(os.listdir(test_elektronik)))\n",
    "print(\"Total sampah organik images di test set:\", len(os.listdir(test_organik)))\n",
    "print(\"Total sampah residu images di test set:\", len(os.listdir(test_residu)))"
   ]
  },
  {
   "cell_type": "code",
   "execution_count": 114,
   "id": "4235e115",
   "metadata": {},
   "outputs": [
    {
     "name": "stdout",
     "output_type": "stream",
     "text": [
      "Found 16402 images belonging to 5 classes.\n",
      "Found 4099 images belonging to 5 classes.\n",
      "Found 6113 images belonging to 5 classes.\n"
     ]
    }
   ],
   "source": [
    "datagen = ImageDataGenerator(rescale=1/.255, validation_split=0.2)\n",
    "test_datagen = ImageDataGenerator(rescale=1/.255)\n",
    "\n",
    "train_generator = datagen.flow_from_directory(\n",
    "    TRAIN_DIR,\n",
    "    batch_size = 32,\n",
    "    target_size = (224, 224),\n",
    "    color_mode = 'rgb',\n",
    "    class_mode = 'sparse',\n",
    "    subset = 'training',\n",
    "    shuffle = True\n",
    ")\n",
    "\n",
    "validation_generator = datagen.flow_from_directory(\n",
    "    TRAIN_DIR,\n",
    "    batch_size = 32,\n",
    "    target_size = (224, 224),\n",
    "    color_mode = 'rgb',\n",
    "    class_mode = 'sparse',\n",
    "    subset = 'validation',\n",
    "    shuffle = False\n",
    ")\n",
    "\n",
    "test_generator = datagen.flow_from_directory(\n",
    "    TEST_DIR,\n",
    "    batch_size = 1,\n",
    "    target_size = (224, 224),\n",
    "    color_mode = 'rgb',\n",
    "    class_mode = 'sparse',\n",
    "    shuffle = False\n",
    ")"
   ]
  },
  {
   "cell_type": "code",
   "execution_count": 115,
   "id": "785298f5",
   "metadata": {},
   "outputs": [],
   "source": [
    "base_model = MobileNetV2(\n",
    "    input_shape=(224, 224, 3),\n",
    "    include_top=False,\n",
    "    weights=\"imagenet\"\n",
    ")\n",
    "\n",
    "base_model.trainable = False  # freeze dulu\n",
    "\n",
    "model_1 = Sequential([\n",
    "    base_model,\n",
    "    GlobalAveragePooling2D(),\n",
    "\n",
    "    Dense(256, activation='relu'),\n",
    "    Dropout(0.5),\n",
    "    Dense(128, activation='relu'),\n",
    "    Dropout(0.3),\n",
    "    Dense(5, activation='softmax')\n",
    "])"
   ]
  },
  {
   "cell_type": "code",
   "execution_count": 61,
   "id": "69a1ad39",
   "metadata": {},
   "outputs": [],
   "source": [
    "# model_1 = Sequential()\n",
    "\n",
    "# # (224, 224, 3) = 3 merupakan rgb\n",
    "# model_1.add(Conv2D(32, (3, 3), padding='same', activation='relu', input_shape=(224, 224, 3)))\n",
    "# model_1.add(BatchNormalization())\n",
    "# model_1.add(MaxPool2D((2, 2)))\n",
    "\n",
    "# model_1.add(Conv2D(32, (4, 4), padding='same', activation='relu'))\n",
    "# model_1.add(BatchNormalization())\n",
    "# model_1.add(MaxPool2D((2, 2)))\n",
    "\n",
    "# model_1.add(Conv2D(32, (7, 7), padding='same', activation='relu'))\n",
    "# model_1.add(BatchNormalization())\n",
    "# model_1.add(MaxPool2D((2, 2)))\n",
    "\n",
    "# model_1.add(Flatten())\n",
    "\n",
    "# model_1.add(Dense(256, activation='relu'))\n",
    "# model_1.add(Dropout(0.5))\n",
    "\n",
    "# model_1.add(Dense(128, activation='relu'))\n",
    "# model_1.add(Dropout(0.5))\n",
    "\n",
    "# model_1.add(Dense(64, activation='relu'))\n",
    "# model_1.add(Dropout(0.3))\n",
    "\n",
    "# model_1.add(Dense(5, activation='softmax'))"
   ]
  },
  {
   "cell_type": "code",
   "execution_count": 116,
   "id": "9acae283",
   "metadata": {},
   "outputs": [],
   "source": [
    "model_1.compile(\n",
    "    optimizer = Adam(learning_rate=1e-4),\n",
    "    loss = SparseCategoricalCrossentropy(),\n",
    "    metrics = ['accuracy']\n",
    ")"
   ]
  },
  {
   "cell_type": "code",
   "execution_count": 117,
   "id": "76d3a457",
   "metadata": {},
   "outputs": [
    {
     "data": {
      "text/html": [
       "<pre style=\"white-space:pre;overflow-x:auto;line-height:normal;font-family:Menlo,'DejaVu Sans Mono',consolas,'Courier New',monospace\"><span style=\"font-weight: bold\">Model: \"sequential_4\"</span>\n",
       "</pre>\n"
      ],
      "text/plain": [
       "\u001b[1mModel: \"sequential_4\"\u001b[0m\n"
      ]
     },
     "metadata": {},
     "output_type": "display_data"
    },
    {
     "data": {
      "text/html": [
       "<pre style=\"white-space:pre;overflow-x:auto;line-height:normal;font-family:Menlo,'DejaVu Sans Mono',consolas,'Courier New',monospace\">┏━━━━━━━━━━━━━━━━━━━━━━━━━━━━━━━━━┳━━━━━━━━━━━━━━━━━━━━━━━━┳━━━━━━━━━━━━━━━┓\n",
       "┃<span style=\"font-weight: bold\"> Layer (type)                    </span>┃<span style=\"font-weight: bold\"> Output Shape           </span>┃<span style=\"font-weight: bold\">       Param # </span>┃\n",
       "┡━━━━━━━━━━━━━━━━━━━━━━━━━━━━━━━━━╇━━━━━━━━━━━━━━━━━━━━━━━━╇━━━━━━━━━━━━━━━┩\n",
       "│ mobilenetv2_1.00_224            │ (<span style=\"color: #00d7ff; text-decoration-color: #00d7ff\">None</span>, <span style=\"color: #00af00; text-decoration-color: #00af00\">7</span>, <span style=\"color: #00af00; text-decoration-color: #00af00\">7</span>, <span style=\"color: #00af00; text-decoration-color: #00af00\">1280</span>)     │     <span style=\"color: #00af00; text-decoration-color: #00af00\">2,257,984</span> │\n",
       "│ (<span style=\"color: #0087ff; text-decoration-color: #0087ff\">Functional</span>)                    │                        │               │\n",
       "├─────────────────────────────────┼────────────────────────┼───────────────┤\n",
       "│ global_average_pooling2d_4      │ (<span style=\"color: #00d7ff; text-decoration-color: #00d7ff\">None</span>, <span style=\"color: #00af00; text-decoration-color: #00af00\">1280</span>)           │             <span style=\"color: #00af00; text-decoration-color: #00af00\">0</span> │\n",
       "│ (<span style=\"color: #0087ff; text-decoration-color: #0087ff\">GlobalAveragePooling2D</span>)        │                        │               │\n",
       "├─────────────────────────────────┼────────────────────────┼───────────────┤\n",
       "│ dense_12 (<span style=\"color: #0087ff; text-decoration-color: #0087ff\">Dense</span>)                │ (<span style=\"color: #00d7ff; text-decoration-color: #00d7ff\">None</span>, <span style=\"color: #00af00; text-decoration-color: #00af00\">256</span>)            │       <span style=\"color: #00af00; text-decoration-color: #00af00\">327,936</span> │\n",
       "├─────────────────────────────────┼────────────────────────┼───────────────┤\n",
       "│ dropout_8 (<span style=\"color: #0087ff; text-decoration-color: #0087ff\">Dropout</span>)             │ (<span style=\"color: #00d7ff; text-decoration-color: #00d7ff\">None</span>, <span style=\"color: #00af00; text-decoration-color: #00af00\">256</span>)            │             <span style=\"color: #00af00; text-decoration-color: #00af00\">0</span> │\n",
       "├─────────────────────────────────┼────────────────────────┼───────────────┤\n",
       "│ dense_13 (<span style=\"color: #0087ff; text-decoration-color: #0087ff\">Dense</span>)                │ (<span style=\"color: #00d7ff; text-decoration-color: #00d7ff\">None</span>, <span style=\"color: #00af00; text-decoration-color: #00af00\">128</span>)            │        <span style=\"color: #00af00; text-decoration-color: #00af00\">32,896</span> │\n",
       "├─────────────────────────────────┼────────────────────────┼───────────────┤\n",
       "│ dropout_9 (<span style=\"color: #0087ff; text-decoration-color: #0087ff\">Dropout</span>)             │ (<span style=\"color: #00d7ff; text-decoration-color: #00d7ff\">None</span>, <span style=\"color: #00af00; text-decoration-color: #00af00\">128</span>)            │             <span style=\"color: #00af00; text-decoration-color: #00af00\">0</span> │\n",
       "├─────────────────────────────────┼────────────────────────┼───────────────┤\n",
       "│ dense_14 (<span style=\"color: #0087ff; text-decoration-color: #0087ff\">Dense</span>)                │ (<span style=\"color: #00d7ff; text-decoration-color: #00d7ff\">None</span>, <span style=\"color: #00af00; text-decoration-color: #00af00\">5</span>)              │           <span style=\"color: #00af00; text-decoration-color: #00af00\">645</span> │\n",
       "└─────────────────────────────────┴────────────────────────┴───────────────┘\n",
       "</pre>\n"
      ],
      "text/plain": [
       "┏━━━━━━━━━━━━━━━━━━━━━━━━━━━━━━━━━┳━━━━━━━━━━━━━━━━━━━━━━━━┳━━━━━━━━━━━━━━━┓\n",
       "┃\u001b[1m \u001b[0m\u001b[1mLayer (type)                   \u001b[0m\u001b[1m \u001b[0m┃\u001b[1m \u001b[0m\u001b[1mOutput Shape          \u001b[0m\u001b[1m \u001b[0m┃\u001b[1m \u001b[0m\u001b[1m      Param #\u001b[0m\u001b[1m \u001b[0m┃\n",
       "┡━━━━━━━━━━━━━━━━━━━━━━━━━━━━━━━━━╇━━━━━━━━━━━━━━━━━━━━━━━━╇━━━━━━━━━━━━━━━┩\n",
       "│ mobilenetv2_1.00_224            │ (\u001b[38;5;45mNone\u001b[0m, \u001b[38;5;34m7\u001b[0m, \u001b[38;5;34m7\u001b[0m, \u001b[38;5;34m1280\u001b[0m)     │     \u001b[38;5;34m2,257,984\u001b[0m │\n",
       "│ (\u001b[38;5;33mFunctional\u001b[0m)                    │                        │               │\n",
       "├─────────────────────────────────┼────────────────────────┼───────────────┤\n",
       "│ global_average_pooling2d_4      │ (\u001b[38;5;45mNone\u001b[0m, \u001b[38;5;34m1280\u001b[0m)           │             \u001b[38;5;34m0\u001b[0m │\n",
       "│ (\u001b[38;5;33mGlobalAveragePooling2D\u001b[0m)        │                        │               │\n",
       "├─────────────────────────────────┼────────────────────────┼───────────────┤\n",
       "│ dense_12 (\u001b[38;5;33mDense\u001b[0m)                │ (\u001b[38;5;45mNone\u001b[0m, \u001b[38;5;34m256\u001b[0m)            │       \u001b[38;5;34m327,936\u001b[0m │\n",
       "├─────────────────────────────────┼────────────────────────┼───────────────┤\n",
       "│ dropout_8 (\u001b[38;5;33mDropout\u001b[0m)             │ (\u001b[38;5;45mNone\u001b[0m, \u001b[38;5;34m256\u001b[0m)            │             \u001b[38;5;34m0\u001b[0m │\n",
       "├─────────────────────────────────┼────────────────────────┼───────────────┤\n",
       "│ dense_13 (\u001b[38;5;33mDense\u001b[0m)                │ (\u001b[38;5;45mNone\u001b[0m, \u001b[38;5;34m128\u001b[0m)            │        \u001b[38;5;34m32,896\u001b[0m │\n",
       "├─────────────────────────────────┼────────────────────────┼───────────────┤\n",
       "│ dropout_9 (\u001b[38;5;33mDropout\u001b[0m)             │ (\u001b[38;5;45mNone\u001b[0m, \u001b[38;5;34m128\u001b[0m)            │             \u001b[38;5;34m0\u001b[0m │\n",
       "├─────────────────────────────────┼────────────────────────┼───────────────┤\n",
       "│ dense_14 (\u001b[38;5;33mDense\u001b[0m)                │ (\u001b[38;5;45mNone\u001b[0m, \u001b[38;5;34m5\u001b[0m)              │           \u001b[38;5;34m645\u001b[0m │\n",
       "└─────────────────────────────────┴────────────────────────┴───────────────┘\n"
      ]
     },
     "metadata": {},
     "output_type": "display_data"
    },
    {
     "data": {
      "text/html": [
       "<pre style=\"white-space:pre;overflow-x:auto;line-height:normal;font-family:Menlo,'DejaVu Sans Mono',consolas,'Courier New',monospace\"><span style=\"font-weight: bold\"> Total params: </span><span style=\"color: #00af00; text-decoration-color: #00af00\">2,619,461</span> (9.99 MB)\n",
       "</pre>\n"
      ],
      "text/plain": [
       "\u001b[1m Total params: \u001b[0m\u001b[38;5;34m2,619,461\u001b[0m (9.99 MB)\n"
      ]
     },
     "metadata": {},
     "output_type": "display_data"
    },
    {
     "data": {
      "text/html": [
       "<pre style=\"white-space:pre;overflow-x:auto;line-height:normal;font-family:Menlo,'DejaVu Sans Mono',consolas,'Courier New',monospace\"><span style=\"font-weight: bold\"> Trainable params: </span><span style=\"color: #00af00; text-decoration-color: #00af00\">361,477</span> (1.38 MB)\n",
       "</pre>\n"
      ],
      "text/plain": [
       "\u001b[1m Trainable params: \u001b[0m\u001b[38;5;34m361,477\u001b[0m (1.38 MB)\n"
      ]
     },
     "metadata": {},
     "output_type": "display_data"
    },
    {
     "data": {
      "text/html": [
       "<pre style=\"white-space:pre;overflow-x:auto;line-height:normal;font-family:Menlo,'DejaVu Sans Mono',consolas,'Courier New',monospace\"><span style=\"font-weight: bold\"> Non-trainable params: </span><span style=\"color: #00af00; text-decoration-color: #00af00\">2,257,984</span> (8.61 MB)\n",
       "</pre>\n"
      ],
      "text/plain": [
       "\u001b[1m Non-trainable params: \u001b[0m\u001b[38;5;34m2,257,984\u001b[0m (8.61 MB)\n"
      ]
     },
     "metadata": {},
     "output_type": "display_data"
    },
    {
     "name": "stdout",
     "output_type": "stream",
     "text": [
      "None\n"
     ]
    }
   ],
   "source": [
    "print(model_1.summary())"
   ]
  },
  {
   "cell_type": "code",
   "execution_count": null,
   "id": "c9890d48",
   "metadata": {},
   "outputs": [],
   "source": [
    "# early_stop = EarlyStopping(\n",
    "#     monitor='val_loss',\n",
    "#     patience=10,\n",
    "#     restore_best_weights=True\n",
    "# )\n",
    "\n",
    "# reduce_lr = ReduceLROnPlateau(\n",
    "#     monitor='val_loss',\n",
    "#     factor=0.3,\n",
    "#     patience=5,\n",
    "#     min_lr=1e-6\n",
    "# )"
   ]
  },
  {
   "cell_type": "code",
   "execution_count": 118,
   "id": "b75f9568",
   "metadata": {},
   "outputs": [],
   "source": [
    "class MyCallback(Callback):\n",
    "    def on_epoch_end(self, epoch, logs={}):\n",
    "        if(logs.get('accuracy') > 0.92):\n",
    "            print(\"\\nAkurasi telah mencapai > 92%\")\n",
    "            self.model.stop_training = True\n",
    "\n",
    "callbacks = MyCallback()"
   ]
  },
  {
   "cell_type": "code",
   "execution_count": 119,
   "id": "f44f8334",
   "metadata": {},
   "outputs": [],
   "source": [
    "count_anorganik, count_b3, count_elektronik, count_organik, count_residu = len(os.listdir(train_anorganik)), len(os.listdir(train_b3)), len(os.listdir(train_elektronik)), len(os.listdir(train_organik)), len(os.listdir(train_residu))\n",
    "weight_0 = (1 / count_anorganik) * (count_anorganik + count_b3 + count_elektronik + count_organik + count_residu) / 5.0\n",
    "weight_1 = (1 / count_b3) * (count_anorganik + count_b3 + count_elektronik + count_organik + count_residu) / 5.0\n",
    "weight_2 = (1 / count_elektronik) * (count_anorganik + count_b3 + count_elektronik + count_organik + count_residu) / 5.0\n",
    "weight_3 = (1 / count_organik) * (count_anorganik + count_b3 + count_elektronik + count_organik + count_residu) / 5.0\n",
    "weight_4 = (1 / count_residu) * (count_anorganik + count_b3 + count_elektronik + count_organik + count_residu) / 5.0\n",
    " \n",
    "class_weights = {0 : weight_0, 1 : weight_1, 2 : weight_2, 3 : weight_3, 4 : weight_4}"
   ]
  },
  {
   "cell_type": "code",
   "execution_count": 120,
   "id": "2f37937b",
   "metadata": {},
   "outputs": [
    {
     "name": "stdout",
     "output_type": "stream",
     "text": [
      "Epoch 1/100\n"
     ]
    },
    {
     "name": "stderr",
     "output_type": "stream",
     "text": [
      "c:\\Users\\USER\\AppData\\Local\\Programs\\Python\\Python313\\Lib\\site-packages\\keras\\src\\trainers\\data_adapters\\py_dataset_adapter.py:121: UserWarning: Your `PyDataset` class should call `super().__init__(**kwargs)` in its constructor. `**kwargs` can include `workers`, `use_multiprocessing`, `max_queue_size`. Do not pass these arguments to `fit()`, as they will be ignored.\n",
      "  self._warn_if_super_not_called()\n"
     ]
    },
    {
     "name": "stdout",
     "output_type": "stream",
     "text": [
      "\u001b[1m513/513\u001b[0m \u001b[32m━━━━━━━━━━━━━━━━━━━━\u001b[0m\u001b[37m\u001b[0m \u001b[1m203s\u001b[0m 391ms/step - accuracy: 0.4669 - loss: 1.3263 - val_accuracy: 0.6038 - val_loss: 1.0398\n",
      "Epoch 2/100\n",
      "\u001b[1m513/513\u001b[0m \u001b[32m━━━━━━━━━━━━━━━━━━━━\u001b[0m\u001b[37m\u001b[0m \u001b[1m241s\u001b[0m 469ms/step - accuracy: 0.6077 - loss: 1.0323 - val_accuracy: 0.6433 - val_loss: 0.9597\n",
      "Epoch 3/100\n",
      "\u001b[1m513/513\u001b[0m \u001b[32m━━━━━━━━━━━━━━━━━━━━\u001b[0m\u001b[37m\u001b[0m \u001b[1m196s\u001b[0m 381ms/step - accuracy: 0.6517 - loss: 0.9334 - val_accuracy: 0.6663 - val_loss: 0.9042\n",
      "Epoch 4/100\n",
      "\u001b[1m513/513\u001b[0m \u001b[32m━━━━━━━━━━━━━━━━━━━━\u001b[0m\u001b[37m\u001b[0m \u001b[1m206s\u001b[0m 390ms/step - accuracy: 0.6810 - loss: 0.8591 - val_accuracy: 0.6760 - val_loss: 0.8802\n",
      "Epoch 5/100\n",
      "\u001b[1m513/513\u001b[0m \u001b[32m━━━━━━━━━━━━━━━━━━━━\u001b[0m\u001b[37m\u001b[0m \u001b[1m199s\u001b[0m 384ms/step - accuracy: 0.6985 - loss: 0.8113 - val_accuracy: 0.6933 - val_loss: 0.8582\n",
      "Epoch 6/100\n",
      "\u001b[1m513/513\u001b[0m \u001b[32m━━━━━━━━━━━━━━━━━━━━\u001b[0m\u001b[37m\u001b[0m \u001b[1m251s\u001b[0m 479ms/step - accuracy: 0.7161 - loss: 0.7708 - val_accuracy: 0.6916 - val_loss: 0.8424\n",
      "Epoch 7/100\n",
      "\u001b[1m513/513\u001b[0m \u001b[32m━━━━━━━━━━━━━━━━━━━━\u001b[0m\u001b[37m\u001b[0m \u001b[1m155s\u001b[0m 301ms/step - accuracy: 0.7350 - loss: 0.7323 - val_accuracy: 0.6955 - val_loss: 0.8287\n",
      "Epoch 8/100\n",
      "\u001b[1m513/513\u001b[0m \u001b[32m━━━━━━━━━━━━━━━━━━━━\u001b[0m\u001b[37m\u001b[0m \u001b[1m192s\u001b[0m 374ms/step - accuracy: 0.7406 - loss: 0.7069 - val_accuracy: 0.7090 - val_loss: 0.8107\n",
      "Epoch 9/100\n",
      "\u001b[1m513/513\u001b[0m \u001b[32m━━━━━━━━━━━━━━━━━━━━\u001b[0m\u001b[37m\u001b[0m \u001b[1m148s\u001b[0m 288ms/step - accuracy: 0.7573 - loss: 0.6754 - val_accuracy: 0.7070 - val_loss: 0.8073\n",
      "Epoch 10/100\n",
      "\u001b[1m513/513\u001b[0m \u001b[32m━━━━━━━━━━━━━━━━━━━━\u001b[0m\u001b[37m\u001b[0m \u001b[1m164s\u001b[0m 320ms/step - accuracy: 0.7614 - loss: 0.6498 - val_accuracy: 0.7160 - val_loss: 0.7784\n",
      "Epoch 11/100\n",
      "\u001b[1m513/513\u001b[0m \u001b[32m━━━━━━━━━━━━━━━━━━━━\u001b[0m\u001b[37m\u001b[0m \u001b[1m245s\u001b[0m 479ms/step - accuracy: 0.7736 - loss: 0.6243 - val_accuracy: 0.7187 - val_loss: 0.7661\n",
      "Epoch 12/100\n",
      "\u001b[1m513/513\u001b[0m \u001b[32m━━━━━━━━━━━━━━━━━━━━\u001b[0m\u001b[37m\u001b[0m \u001b[1m210s\u001b[0m 408ms/step - accuracy: 0.7822 - loss: 0.6021 - val_accuracy: 0.7236 - val_loss: 0.7685\n",
      "Epoch 13/100\n",
      "\u001b[1m513/513\u001b[0m \u001b[32m━━━━━━━━━━━━━━━━━━━━\u001b[0m\u001b[37m\u001b[0m \u001b[1m214s\u001b[0m 315ms/step - accuracy: 0.7883 - loss: 0.5823 - val_accuracy: 0.7119 - val_loss: 0.8142\n",
      "Epoch 14/100\n",
      "\u001b[1m513/513\u001b[0m \u001b[32m━━━━━━━━━━━━━━━━━━━━\u001b[0m\u001b[37m\u001b[0m \u001b[1m143s\u001b[0m 279ms/step - accuracy: 0.7942 - loss: 0.5628 - val_accuracy: 0.7343 - val_loss: 0.7495\n",
      "Epoch 15/100\n",
      "\u001b[1m513/513\u001b[0m \u001b[32m━━━━━━━━━━━━━━━━━━━━\u001b[0m\u001b[37m\u001b[0m \u001b[1m147s\u001b[0m 286ms/step - accuracy: 0.8045 - loss: 0.5420 - val_accuracy: 0.7421 - val_loss: 0.7523\n",
      "Epoch 16/100\n",
      "\u001b[1m513/513\u001b[0m \u001b[32m━━━━━━━━━━━━━━━━━━━━\u001b[0m\u001b[37m\u001b[0m \u001b[1m147s\u001b[0m 287ms/step - accuracy: 0.8064 - loss: 0.5308 - val_accuracy: 0.7304 - val_loss: 0.7731\n",
      "Epoch 17/100\n",
      "\u001b[1m513/513\u001b[0m \u001b[32m━━━━━━━━━━━━━━━━━━━━\u001b[0m\u001b[37m\u001b[0m \u001b[1m147s\u001b[0m 288ms/step - accuracy: 0.8179 - loss: 0.5019 - val_accuracy: 0.7416 - val_loss: 0.7700\n",
      "Epoch 18/100\n",
      "\u001b[1m513/513\u001b[0m \u001b[32m━━━━━━━━━━━━━━━━━━━━\u001b[0m\u001b[37m\u001b[0m \u001b[1m147s\u001b[0m 286ms/step - accuracy: 0.8237 - loss: 0.4832 - val_accuracy: 0.7451 - val_loss: 0.7504\n",
      "Epoch 19/100\n",
      "\u001b[1m513/513\u001b[0m \u001b[32m━━━━━━━━━━━━━━━━━━━━\u001b[0m\u001b[37m\u001b[0m \u001b[1m147s\u001b[0m 286ms/step - accuracy: 0.8249 - loss: 0.4750 - val_accuracy: 0.7375 - val_loss: 0.7606\n",
      "Epoch 20/100\n",
      "\u001b[1m513/513\u001b[0m \u001b[32m━━━━━━━━━━━━━━━━━━━━\u001b[0m\u001b[37m\u001b[0m \u001b[1m294s\u001b[0m 574ms/step - accuracy: 0.8358 - loss: 0.4554 - val_accuracy: 0.7573 - val_loss: 0.7324\n",
      "Epoch 21/100\n",
      "\u001b[1m513/513\u001b[0m \u001b[32m━━━━━━━━━━━━━━━━━━━━\u001b[0m\u001b[37m\u001b[0m \u001b[1m150s\u001b[0m 292ms/step - accuracy: 0.8386 - loss: 0.4445 - val_accuracy: 0.7487 - val_loss: 0.7490\n",
      "Epoch 22/100\n",
      "\u001b[1m513/513\u001b[0m \u001b[32m━━━━━━━━━━━━━━━━━━━━\u001b[0m\u001b[37m\u001b[0m \u001b[1m146s\u001b[0m 284ms/step - accuracy: 0.8473 - loss: 0.4303 - val_accuracy: 0.7512 - val_loss: 0.7425\n",
      "Epoch 23/100\n",
      "\u001b[1m513/513\u001b[0m \u001b[32m━━━━━━━━━━━━━━━━━━━━\u001b[0m\u001b[37m\u001b[0m \u001b[1m146s\u001b[0m 285ms/step - accuracy: 0.8492 - loss: 0.4166 - val_accuracy: 0.7504 - val_loss: 0.7582\n",
      "Epoch 24/100\n",
      "\u001b[1m513/513\u001b[0m \u001b[32m━━━━━━━━━━━━━━━━━━━━\u001b[0m\u001b[37m\u001b[0m \u001b[1m146s\u001b[0m 285ms/step - accuracy: 0.8569 - loss: 0.4003 - val_accuracy: 0.7526 - val_loss: 0.7586\n",
      "Epoch 25/100\n",
      "\u001b[1m513/513\u001b[0m \u001b[32m━━━━━━━━━━━━━━━━━━━━\u001b[0m\u001b[37m\u001b[0m \u001b[1m146s\u001b[0m 284ms/step - accuracy: 0.8579 - loss: 0.3907 - val_accuracy: 0.7587 - val_loss: 0.7525\n",
      "Epoch 26/100\n",
      "\u001b[1m513/513\u001b[0m \u001b[32m━━━━━━━━━━━━━━━━━━━━\u001b[0m\u001b[37m\u001b[0m \u001b[1m168s\u001b[0m 327ms/step - accuracy: 0.8648 - loss: 0.3725 - val_accuracy: 0.7580 - val_loss: 0.7624\n",
      "Epoch 27/100\n",
      "\u001b[1m513/513\u001b[0m \u001b[32m━━━━━━━━━━━━━━━━━━━━\u001b[0m\u001b[37m\u001b[0m \u001b[1m153s\u001b[0m 298ms/step - accuracy: 0.8709 - loss: 0.3592 - val_accuracy: 0.7646 - val_loss: 0.7430\n",
      "Epoch 28/100\n",
      "\u001b[1m513/513\u001b[0m \u001b[32m━━━━━━━━━━━━━━━━━━━━\u001b[0m\u001b[37m\u001b[0m \u001b[1m142s\u001b[0m 277ms/step - accuracy: 0.8773 - loss: 0.3500 - val_accuracy: 0.7675 - val_loss: 0.7124\n",
      "Epoch 29/100\n",
      "\u001b[1m513/513\u001b[0m \u001b[32m━━━━━━━━━━━━━━━━━━━━\u001b[0m\u001b[37m\u001b[0m \u001b[1m145s\u001b[0m 283ms/step - accuracy: 0.8755 - loss: 0.3392 - val_accuracy: 0.7487 - val_loss: 0.8311\n",
      "Epoch 30/100\n",
      "\u001b[1m513/513\u001b[0m \u001b[32m━━━━━━━━━━━━━━━━━━━━\u001b[0m\u001b[37m\u001b[0m \u001b[1m145s\u001b[0m 282ms/step - accuracy: 0.8776 - loss: 0.3315 - val_accuracy: 0.7570 - val_loss: 0.7832\n",
      "Epoch 31/100\n",
      "\u001b[1m513/513\u001b[0m \u001b[32m━━━━━━━━━━━━━━━━━━━━\u001b[0m\u001b[37m\u001b[0m \u001b[1m145s\u001b[0m 283ms/step - accuracy: 0.8827 - loss: 0.3250 - val_accuracy: 0.7729 - val_loss: 0.7605\n",
      "Epoch 32/100\n",
      "\u001b[1m513/513\u001b[0m \u001b[32m━━━━━━━━━━━━━━━━━━━━\u001b[0m\u001b[37m\u001b[0m \u001b[1m145s\u001b[0m 282ms/step - accuracy: 0.8942 - loss: 0.3022 - val_accuracy: 0.7704 - val_loss: 0.7698\n",
      "Epoch 33/100\n",
      "\u001b[1m513/513\u001b[0m \u001b[32m━━━━━━━━━━━━━━━━━━━━\u001b[0m\u001b[37m\u001b[0m \u001b[1m145s\u001b[0m 284ms/step - accuracy: 0.8889 - loss: 0.3017 - val_accuracy: 0.7738 - val_loss: 0.7662\n",
      "Epoch 34/100\n",
      "\u001b[1m513/513\u001b[0m \u001b[32m━━━━━━━━━━━━━━━━━━━━\u001b[0m\u001b[37m\u001b[0m \u001b[1m146s\u001b[0m 286ms/step - accuracy: 0.8943 - loss: 0.2931 - val_accuracy: 0.7682 - val_loss: 0.7723\n",
      "Epoch 35/100\n",
      "\u001b[1m513/513\u001b[0m \u001b[32m━━━━━━━━━━━━━━━━━━━━\u001b[0m\u001b[37m\u001b[0m \u001b[1m147s\u001b[0m 286ms/step - accuracy: 0.8995 - loss: 0.2836 - val_accuracy: 0.7704 - val_loss: 0.7679\n",
      "Epoch 36/100\n",
      "\u001b[1m513/513\u001b[0m \u001b[32m━━━━━━━━━━━━━━━━━━━━\u001b[0m\u001b[37m\u001b[0m \u001b[1m146s\u001b[0m 285ms/step - accuracy: 0.9024 - loss: 0.2738 - val_accuracy: 0.7690 - val_loss: 0.7849\n",
      "Epoch 37/100\n",
      "\u001b[1m513/513\u001b[0m \u001b[32m━━━━━━━━━━━━━━━━━━━━\u001b[0m\u001b[37m\u001b[0m \u001b[1m146s\u001b[0m 285ms/step - accuracy: 0.9050 - loss: 0.2637 - val_accuracy: 0.7668 - val_loss: 0.8264\n",
      "Epoch 38/100\n",
      "\u001b[1m513/513\u001b[0m \u001b[32m━━━━━━━━━━━━━━━━━━━━\u001b[0m\u001b[37m\u001b[0m \u001b[1m146s\u001b[0m 285ms/step - accuracy: 0.9064 - loss: 0.2592 - val_accuracy: 0.7743 - val_loss: 0.7951\n",
      "Epoch 39/100\n",
      "\u001b[1m513/513\u001b[0m \u001b[32m━━━━━━━━━━━━━━━━━━━━\u001b[0m\u001b[37m\u001b[0m \u001b[1m146s\u001b[0m 285ms/step - accuracy: 0.9072 - loss: 0.2532 - val_accuracy: 0.7685 - val_loss: 0.8313\n",
      "Epoch 40/100\n",
      "\u001b[1m513/513\u001b[0m \u001b[32m━━━━━━━━━━━━━━━━━━━━\u001b[0m\u001b[37m\u001b[0m \u001b[1m147s\u001b[0m 286ms/step - accuracy: 0.9142 - loss: 0.2402 - val_accuracy: 0.7692 - val_loss: 0.8383\n",
      "Epoch 41/100\n",
      "\u001b[1m513/513\u001b[0m \u001b[32m━━━━━━━━━━━━━━━━━━━━\u001b[0m\u001b[37m\u001b[0m \u001b[1m147s\u001b[0m 286ms/step - accuracy: 0.9147 - loss: 0.2374 - val_accuracy: 0.7680 - val_loss: 0.8405\n",
      "Epoch 42/100\n",
      "\u001b[1m513/513\u001b[0m \u001b[32m━━━━━━━━━━━━━━━━━━━━\u001b[0m\u001b[37m\u001b[0m \u001b[1m144s\u001b[0m 282ms/step - accuracy: 0.9179 - loss: 0.2274 - val_accuracy: 0.7731 - val_loss: 0.8149\n",
      "Epoch 43/100\n",
      "\u001b[1m513/513\u001b[0m \u001b[32m━━━━━━━━━━━━━━━━━━━━\u001b[0m\u001b[37m\u001b[0m \u001b[1m143s\u001b[0m 278ms/step - accuracy: 0.9159 - loss: 0.2301 - val_accuracy: 0.7748 - val_loss: 0.8493\n",
      "Epoch 44/100\n",
      "\u001b[1m513/513\u001b[0m \u001b[32m━━━━━━━━━━━━━━━━━━━━\u001b[0m\u001b[37m\u001b[0m \u001b[1m0s\u001b[0m 230ms/step - accuracy: 0.9226 - loss: 0.2150\n",
      "Akurasi telah mencapai > 92%\n",
      "\u001b[1m513/513\u001b[0m \u001b[32m━━━━━━━━━━━━━━━━━━━━\u001b[0m\u001b[37m\u001b[0m \u001b[1m146s\u001b[0m 285ms/step - accuracy: 0.9206 - loss: 0.2188 - val_accuracy: 0.7753 - val_loss: 0.8450\n"
     ]
    }
   ],
   "source": [
    "history_1 = model_1.fit(\n",
    "    train_generator,\n",
    "    batch_size=32,\n",
    "    epochs=100,\n",
    "    class_weight=class_weights,\n",
    "    validation_data=validation_generator,\n",
    "    callbacks=[callbacks]\n",
    ")"
   ]
  },
  {
   "cell_type": "code",
   "execution_count": 121,
   "id": "1811b28a",
   "metadata": {},
   "outputs": [
    {
     "name": "stdout",
     "output_type": "stream",
     "text": [
      "\u001b[1m6113/6113\u001b[0m \u001b[32m━━━━━━━━━━━━━━━━━━━━\u001b[0m\u001b[37m\u001b[0m \u001b[1m93s\u001b[0m 15ms/step - accuracy: 0.8768 - loss: 0.4196\n"
     ]
    },
    {
     "data": {
      "text/plain": [
       "[0.4195590317249298, 0.876819908618927]"
      ]
     },
     "execution_count": 121,
     "metadata": {},
     "output_type": "execute_result"
    }
   ],
   "source": [
    "model_1.evaluate(test_generator, batch_size=5)"
   ]
  },
  {
   "cell_type": "code",
   "execution_count": 122,
   "id": "e0213579",
   "metadata": {},
   "outputs": [
    {
     "name": "stdout",
     "output_type": "stream",
     "text": [
      "WARNING:tensorflow:6 out of the last 111 calls to <function TensorFlowTrainer.make_predict_function.<locals>.one_step_on_data_distributed at 0x0000022BB426DB20> triggered tf.function retracing. Tracing is expensive and the excessive number of tracings could be due to (1) creating @tf.function repeatedly in a loop, (2) passing tensors with different shapes, (3) passing Python objects instead of tensors. For (1), please define your @tf.function outside of the loop. For (2), @tf.function has reduce_retracing=True option that can avoid unnecessary retracing. For (3), please refer to https://www.tensorflow.org/guide/function#controlling_retracing and https://www.tensorflow.org/api_docs/python/tf/function for  more details.\n"
     ]
    },
    {
     "name": "stderr",
     "output_type": "stream",
     "text": [
      "WARNING:tensorflow:6 out of the last 111 calls to <function TensorFlowTrainer.make_predict_function.<locals>.one_step_on_data_distributed at 0x0000022BB426DB20> triggered tf.function retracing. Tracing is expensive and the excessive number of tracings could be due to (1) creating @tf.function repeatedly in a loop, (2) passing tensors with different shapes, (3) passing Python objects instead of tensors. For (1), please define your @tf.function outside of the loop. For (2), @tf.function has reduce_retracing=True option that can avoid unnecessary retracing. For (3), please refer to https://www.tensorflow.org/guide/function#controlling_retracing and https://www.tensorflow.org/api_docs/python/tf/function for  more details.\n"
     ]
    },
    {
     "name": "stdout",
     "output_type": "stream",
     "text": [
      "\u001b[1m129/129\u001b[0m \u001b[32m━━━━━━━━━━━━━━━━━━━━\u001b[0m\u001b[37m\u001b[0m \u001b[1m31s\u001b[0m 231ms/step\n"
     ]
    },
    {
     "data": {
      "image/png": "[encoded data removed]",
      "text/plain": [
       "<Figure size 800x600 with 2 Axes>"
      ]
     },
     "metadata": {},
     "output_type": "display_data"
    },
    {
     "name": "stdout",
     "output_type": "stream",
     "text": [
      "Classification Report:\n",
      "\n",
      "                   precision    recall  f1-score   support\n",
      "\n",
      " Sampah-Anorganik       0.79      0.67      0.73       999\n",
      "        Sampah-B3       0.72      0.88      0.79       780\n",
      "Sampah-Elektronik       0.79      0.71      0.75       765\n",
      "   Sampah-Organik       0.77      0.87      0.82       764\n",
      "    Sampah-Residu       0.82      0.77      0.80       791\n",
      "\n",
      "         accuracy                           0.78      4099\n",
      "        macro avg       0.78      0.78      0.78      4099\n",
      "     weighted avg       0.78      0.78      0.77      4099\n",
      "\n"
     ]
    }
   ],
   "source": [
    "import numpy as np\n",
    "import matplotlib.pyplot as plt\n",
    "import seaborn as sns\n",
    "from sklearn.metrics import confusion_matrix, classification_report\n",
    "\n",
    "# -----------------------------\n",
    "# Prediksi di validation/test set\n",
    "# -----------------------------\n",
    "y_true = validation_generator.classes  # label asli\n",
    "y_pred_probs = model_1.predict(validation_generator)\n",
    "y_pred = np.argmax(y_pred_probs, axis=1)  # ambil kelas dengan probabilitas tertinggi\n",
    "\n",
    "# -----------------------------\n",
    "# Confusion Matrix\n",
    "# -----------------------------\n",
    "cm = confusion_matrix(y_true, y_pred)\n",
    "class_labels = list(validation_generator.class_indices.keys())  # nama kelas\n",
    "\n",
    "plt.figure(figsize=(8,6))\n",
    "sns.heatmap(cm, annot=True, fmt=\"d\", cmap=\"Blues\",\n",
    "            xticklabels=class_labels, yticklabels=class_labels)\n",
    "plt.xlabel(\"Predicted\")\n",
    "plt.ylabel(\"True\")\n",
    "plt.title(\"Confusion Matrix\")\n",
    "plt.show()\n",
    "\n",
    "# -----------------------------\n",
    "# Classification Report\n",
    "# -----------------------------\n",
    "print(\"Classification Report:\\n\")\n",
    "print(classification_report(y_true, y_pred, target_names=class_labels))\n"
   ]
  },
  {
   "cell_type": "code",
   "execution_count": 123,
   "id": "cfb2d3fe",
   "metadata": {},
   "outputs": [
    {
     "data": {
      "image/png": "[encoded data removed]",
      "text/plain": [
       "<Figure size 640x480 with 1 Axes>"
      ]
     },
     "metadata": {},
     "output_type": "display_data"
    },
    {
     "data": {
      "image/png": "[encoded data removed]",
      "text/plain": [
       "<Figure size 640x480 with 1 Axes>"
      ]
     },
     "metadata": {},
     "output_type": "display_data"
    }
   ],
   "source": [
    "acc = history_1.history['accuracy']\n",
    "val_acc = history_1.history['val_accuracy']\n",
    "loss = history_1.history['loss']\n",
    "val_loss = history_1.history['val_loss']\n",
    " \n",
    "epochs = range(len(acc))\n",
    " \n",
    "plt.plot(epochs, acc, 'r')\n",
    "plt.plot(epochs, val_acc, 'b')\n",
    "plt.title('Training and Validation Accuracy')\n",
    "plt.ylabel('accuracy')\n",
    "plt.xlabel('epoch')\n",
    "plt.legend(['train', 'val'], loc='upper left')\n",
    "plt.show()\n",
    " \n",
    "plt.plot(epochs, loss, 'r')\n",
    "plt.plot(epochs, val_loss, 'b')\n",
    "plt.ylabel('loss')\n",
    "plt.xlabel('epoch')\n",
    "plt.legend(['train', 'val'], loc='upper left')\n",
    "plt.title('Training and Validation Loss')\n",
    "plt.show()"
   ]
  },
  {
   "cell_type": "code",
   "execution_count": 124,
   "id": "c6cf8ed1",
   "metadata": {},
   "outputs": [
    {
     "name": "stderr",
     "output_type": "stream",
     "text": [
      "WARNING:absl:You are saving your model as an HDF5 file via `model.save()` or `keras.saving.save_model(model)`. This file format is considered legacy. We recommend using instead the native Keras format, e.g. `model.save('my_model.keras')` or `keras.saving.save_model(model, 'my_model.keras')`. \n"
     ]
    }
   ],
   "source": [
    "model_1.save(\"model.h5\")"
   ]
  },
  {
   "cell_type": "code",
   "execution_count": 125,
   "id": "82f4fabf",
   "metadata": {},
   "outputs": [
    {
     "name": "stderr",
     "output_type": "stream",
     "text": [
      "WARNING:absl:Compiled the loaded model, but the compiled metrics have yet to be built. `model.compile_metrics` will be empty until you train or evaluate the model.\n"
     ]
    }
   ],
   "source": [
    "model = tf.keras.models.load_model('./model.h5')"
   ]
  },
  {
   "cell_type": "code",
   "execution_count": 126,
   "id": "476ef4ff",
   "metadata": {},
   "outputs": [
    {
     "name": "stdout",
     "output_type": "stream",
     "text": [
      "INFO:tensorflow:Assets written to: C:\\Users\\USER\\AppData\\Local\\Temp\\tmpvsp97z8m\\assets\n"
     ]
    },
    {
     "name": "stderr",
     "output_type": "stream",
     "text": [
      "INFO:tensorflow:Assets written to: C:\\Users\\USER\\AppData\\Local\\Temp\\tmpvsp97z8m\\assets\n"
     ]
    },
    {
     "name": "stdout",
     "output_type": "stream",
     "text": [
      "Saved artifact at 'C:\\Users\\USER\\AppData\\Local\\Temp\\tmpvsp97z8m'. The following endpoints are available:\n",
      "\n",
      "* Endpoint 'serve'\n",
      "  args_0 (POSITIONAL_ONLY): TensorSpec(shape=(None, 224, 224, 3), dtype=tf.float32, name='input_layer_9')\n",
      "Output Type:\n",
      "  TensorSpec(shape=(None, 5), dtype=tf.float32, name=None)\n",
      "Captures:\n",
      "  2386992904912: TensorSpec(shape=(), dtype=tf.resource, name=None)\n",
      "  2386729458128: TensorSpec(shape=(), dtype=tf.resource, name=None)\n",
      "  2386729461776: TensorSpec(shape=(), dtype=tf.resource, name=None)\n",
      "  2386992898192: TensorSpec(shape=(), dtype=tf.resource, name=None)\n",
      "  2386729462352: TensorSpec(shape=(), dtype=tf.resource, name=None)\n",
      "  2386729466000: TensorSpec(shape=(), dtype=tf.resource, name=None)\n",
      "  2386729457936: TensorSpec(shape=(), dtype=tf.resource, name=None)\n",
      "  2386729457744: TensorSpec(shape=(), dtype=tf.resource, name=None)\n",
      "  2386729457360: TensorSpec(shape=(), dtype=tf.resource, name=None)\n",
      "  2386729466384: TensorSpec(shape=(), dtype=tf.resource, name=None)\n",
      "  2386729466192: TensorSpec(shape=(), dtype=tf.resource, name=None)\n",
      "  2386729464464: TensorSpec(shape=(), dtype=tf.resource, name=None)\n",
      "  2386729463696: TensorSpec(shape=(), dtype=tf.resource, name=None)\n",
      "  2386729465808: TensorSpec(shape=(), dtype=tf.resource, name=None)\n",
      "  2386729462160: TensorSpec(shape=(), dtype=tf.resource, name=None)\n",
      "  2386729457552: TensorSpec(shape=(), dtype=tf.resource, name=None)\n",
      "  2386729464080: TensorSpec(shape=(), dtype=tf.resource, name=None)\n",
      "  2386729466576: TensorSpec(shape=(), dtype=tf.resource, name=None)\n",
      "  2386729463888: TensorSpec(shape=(), dtype=tf.resource, name=None)\n",
      "  2386729464272: TensorSpec(shape=(), dtype=tf.resource, name=None)\n",
      "  2386859310544: TensorSpec(shape=(), dtype=tf.resource, name=None)\n",
      "  2386859300944: TensorSpec(shape=(), dtype=tf.resource, name=None)\n",
      "  2386859300752: TensorSpec(shape=(), dtype=tf.resource, name=None)\n",
      "  2386859300368: TensorSpec(shape=(), dtype=tf.resource, name=None)\n",
      "  2386859297872: TensorSpec(shape=(), dtype=tf.resource, name=None)\n",
      "  2386859301136: TensorSpec(shape=(), dtype=tf.resource, name=None)\n",
      "  2386859302864: TensorSpec(shape=(), dtype=tf.resource, name=None)\n",
      "  2386859303440: TensorSpec(shape=(), dtype=tf.resource, name=None)\n",
      "  2386859303056: TensorSpec(shape=(), dtype=tf.resource, name=None)\n",
      "  2386859298064: TensorSpec(shape=(), dtype=tf.resource, name=None)\n",
      "  2386859300560: TensorSpec(shape=(), dtype=tf.resource, name=None)\n",
      "  2386859305552: TensorSpec(shape=(), dtype=tf.resource, name=None)\n",
      "  2386859305360: TensorSpec(shape=(), dtype=tf.resource, name=None)\n",
      "  2386859304976: TensorSpec(shape=(), dtype=tf.resource, name=None)\n",
      "  2386859301328: TensorSpec(shape=(), dtype=tf.resource, name=None)\n",
      "  2386859302480: TensorSpec(shape=(), dtype=tf.resource, name=None)\n",
      "  2386859307472: TensorSpec(shape=(), dtype=tf.resource, name=None)\n",
      "  2386859304784: TensorSpec(shape=(), dtype=tf.resource, name=None)\n",
      "  2386859307664: TensorSpec(shape=(), dtype=tf.resource, name=None)\n",
      "  2386859303248: TensorSpec(shape=(), dtype=tf.resource, name=None)\n",
      "  2386859305168: TensorSpec(shape=(), dtype=tf.resource, name=None)\n",
      "  2386859306896: TensorSpec(shape=(), dtype=tf.resource, name=None)\n",
      "  2386859306704: TensorSpec(shape=(), dtype=tf.resource, name=None)\n",
      "  2386859309584: TensorSpec(shape=(), dtype=tf.resource, name=None)\n",
      "  2386859302672: TensorSpec(shape=(), dtype=tf.resource, name=None)\n",
      "  2386859307088: TensorSpec(shape=(), dtype=tf.resource, name=None)\n",
      "  2386859308816: TensorSpec(shape=(), dtype=tf.resource, name=None)\n",
      "  2386859309392: TensorSpec(shape=(), dtype=tf.resource, name=None)\n",
      "  2386859309008: TensorSpec(shape=(), dtype=tf.resource, name=None)\n",
      "  2386859304592: TensorSpec(shape=(), dtype=tf.resource, name=None)\n",
      "  2386859309776: TensorSpec(shape=(), dtype=tf.resource, name=None)\n",
      "  2386859294992: TensorSpec(shape=(), dtype=tf.resource, name=None)\n",
      "  2386859295568: TensorSpec(shape=(), dtype=tf.resource, name=None)\n",
      "  2386859297488: TensorSpec(shape=(), dtype=tf.resource, name=None)\n",
      "  2386859307280: TensorSpec(shape=(), dtype=tf.resource, name=None)\n",
      "  2386859310928: TensorSpec(shape=(), dtype=tf.resource, name=None)\n",
      "  2386859296720: TensorSpec(shape=(), dtype=tf.resource, name=None)\n",
      "  2386859297296: TensorSpec(shape=(), dtype=tf.resource, name=None)\n",
      "  2386859296912: TensorSpec(shape=(), dtype=tf.resource, name=None)\n",
      "  2386859309200: TensorSpec(shape=(), dtype=tf.resource, name=None)\n",
      "  2386859297680: TensorSpec(shape=(), dtype=tf.resource, name=None)\n",
      "  2386859298832: TensorSpec(shape=(), dtype=tf.resource, name=None)\n",
      "  2386859298640: TensorSpec(shape=(), dtype=tf.resource, name=None)\n",
      "  2386859298256: TensorSpec(shape=(), dtype=tf.resource, name=None)\n",
      "  2386859295376: TensorSpec(shape=(), dtype=tf.resource, name=None)\n",
      "  2386859299024: TensorSpec(shape=(), dtype=tf.resource, name=None)\n",
      "  2386859310736: TensorSpec(shape=(), dtype=tf.resource, name=None)\n",
      "  2386859294800: TensorSpec(shape=(), dtype=tf.resource, name=None)\n",
      "  2386859310160: TensorSpec(shape=(), dtype=tf.resource, name=None)\n",
      "  2386859297104: TensorSpec(shape=(), dtype=tf.resource, name=None)\n",
      "  2386859298448: TensorSpec(shape=(), dtype=tf.resource, name=None)\n",
      "  2386859308240: TensorSpec(shape=(), dtype=tf.resource, name=None)\n",
      "  2386859308432: TensorSpec(shape=(), dtype=tf.resource, name=None)\n",
      "  2386859308048: TensorSpec(shape=(), dtype=tf.resource, name=None)\n",
      "  2386859299216: TensorSpec(shape=(), dtype=tf.resource, name=None)\n",
      "  2386859309968: TensorSpec(shape=(), dtype=tf.resource, name=None)\n",
      "  2386859306128: TensorSpec(shape=(), dtype=tf.resource, name=None)\n",
      "  2386859306320: TensorSpec(shape=(), dtype=tf.resource, name=None)\n",
      "  2386859305936: TensorSpec(shape=(), dtype=tf.resource, name=None)\n",
      "  2386859295184: TensorSpec(shape=(), dtype=tf.resource, name=None)\n",
      "  2386859307856: TensorSpec(shape=(), dtype=tf.resource, name=None)\n",
      "  2386859304016: TensorSpec(shape=(), dtype=tf.resource, name=None)\n",
      "  2386859304208: TensorSpec(shape=(), dtype=tf.resource, name=None)\n",
      "  2386859303824: TensorSpec(shape=(), dtype=tf.resource, name=None)\n",
      "  2386859308624: TensorSpec(shape=(), dtype=tf.resource, name=None)\n",
      "  2386859305744: TensorSpec(shape=(), dtype=tf.resource, name=None)\n",
      "  2386859301904: TensorSpec(shape=(), dtype=tf.resource, name=None)\n",
      "  2386859302096: TensorSpec(shape=(), dtype=tf.resource, name=None)\n",
      "  2386859301712: TensorSpec(shape=(), dtype=tf.resource, name=None)\n",
      "  2386859306512: TensorSpec(shape=(), dtype=tf.resource, name=None)\n",
      "  2386859303632: TensorSpec(shape=(), dtype=tf.resource, name=None)\n",
      "  2386859299792: TensorSpec(shape=(), dtype=tf.resource, name=None)\n",
      "  2386859299984: TensorSpec(shape=(), dtype=tf.resource, name=None)\n",
      "  2386859299600: TensorSpec(shape=(), dtype=tf.resource, name=None)\n",
      "  2386859304400: TensorSpec(shape=(), dtype=tf.resource, name=None)\n",
      "  2386859301520: TensorSpec(shape=(), dtype=tf.resource, name=None)\n",
      "  2386859296144: TensorSpec(shape=(), dtype=tf.resource, name=None)\n",
      "  2386859295952: TensorSpec(shape=(), dtype=tf.resource, name=None)\n",
      "  2386859296336: TensorSpec(shape=(), dtype=tf.resource, name=None)\n",
      "  2386859302288: TensorSpec(shape=(), dtype=tf.resource, name=None)\n",
      "  2386859299408: TensorSpec(shape=(), dtype=tf.resource, name=None)\n",
      "  2386859300176: TensorSpec(shape=(), dtype=tf.resource, name=None)\n",
      "  2386858565584: TensorSpec(shape=(), dtype=tf.resource, name=None)\n",
      "  2386859295760: TensorSpec(shape=(), dtype=tf.resource, name=None)\n",
      "  2386859296528: TensorSpec(shape=(), dtype=tf.resource, name=None)\n",
      "  2386858565776: TensorSpec(shape=(), dtype=tf.resource, name=None)\n",
      "  2386858569616: TensorSpec(shape=(), dtype=tf.resource, name=None)\n",
      "  2386858570000: TensorSpec(shape=(), dtype=tf.resource, name=None)\n",
      "  2386858569808: TensorSpec(shape=(), dtype=tf.resource, name=None)\n",
      "  2386858567888: TensorSpec(shape=(), dtype=tf.resource, name=None)\n",
      "  2386858567504: TensorSpec(shape=(), dtype=tf.resource, name=None)\n",
      "  2386858561552: TensorSpec(shape=(), dtype=tf.resource, name=None)\n",
      "  2386858561744: TensorSpec(shape=(), dtype=tf.resource, name=None)\n",
      "  2386858563856: TensorSpec(shape=(), dtype=tf.resource, name=None)\n",
      "  2386858565392: TensorSpec(shape=(), dtype=tf.resource, name=None)\n",
      "  2386858563472: TensorSpec(shape=(), dtype=tf.resource, name=None)\n",
      "  2386858572112: TensorSpec(shape=(), dtype=tf.resource, name=None)\n",
      "  2386858571920: TensorSpec(shape=(), dtype=tf.resource, name=None)\n",
      "  2386858559248: TensorSpec(shape=(), dtype=tf.resource, name=None)\n",
      "  2386858567696: TensorSpec(shape=(), dtype=tf.resource, name=None)\n",
      "  2386858564048: TensorSpec(shape=(), dtype=tf.resource, name=None)\n",
      "  2386858559632: TensorSpec(shape=(), dtype=tf.resource, name=None)\n",
      "  2386858559440: TensorSpec(shape=(), dtype=tf.resource, name=None)\n",
      "  2386858572304: TensorSpec(shape=(), dtype=tf.resource, name=None)\n",
      "  2386858563280: TensorSpec(shape=(), dtype=tf.resource, name=None)\n",
      "  2386858559824: TensorSpec(shape=(), dtype=tf.resource, name=None)\n",
      "  2386858568080: TensorSpec(shape=(), dtype=tf.resource, name=None)\n",
      "  2386858570384: TensorSpec(shape=(), dtype=tf.resource, name=None)\n",
      "  2386858568272: TensorSpec(shape=(), dtype=tf.resource, name=None)\n",
      "  2386858571728: TensorSpec(shape=(), dtype=tf.resource, name=None)\n",
      "  2386858572496: TensorSpec(shape=(), dtype=tf.resource, name=None)\n",
      "  2386858562704: TensorSpec(shape=(), dtype=tf.resource, name=None)\n",
      "  2386858562512: TensorSpec(shape=(), dtype=tf.resource, name=None)\n",
      "  2386858562128: TensorSpec(shape=(), dtype=tf.resource, name=None)\n",
      "  2386858560016: TensorSpec(shape=(), dtype=tf.resource, name=None)\n",
      "  2386858562896: TensorSpec(shape=(), dtype=tf.resource, name=None)\n",
      "  2386858564624: TensorSpec(shape=(), dtype=tf.resource, name=None)\n",
      "  2386858565200: TensorSpec(shape=(), dtype=tf.resource, name=None)\n",
      "  2386858564816: TensorSpec(shape=(), dtype=tf.resource, name=None)\n",
      "  2386858570192: TensorSpec(shape=(), dtype=tf.resource, name=None)\n",
      "  2386858562320: TensorSpec(shape=(), dtype=tf.resource, name=None)\n",
      "  2386858567312: TensorSpec(shape=(), dtype=tf.resource, name=None)\n",
      "  2386858567120: TensorSpec(shape=(), dtype=tf.resource, name=None)\n",
      "  2386858566736: TensorSpec(shape=(), dtype=tf.resource, name=None)\n",
      "  2386858563088: TensorSpec(shape=(), dtype=tf.resource, name=None)\n",
      "  2386858564240: TensorSpec(shape=(), dtype=tf.resource, name=None)\n",
      "  2386858569232: TensorSpec(shape=(), dtype=tf.resource, name=None)\n",
      "  2386858566544: TensorSpec(shape=(), dtype=tf.resource, name=None)\n",
      "  2386858569424: TensorSpec(shape=(), dtype=tf.resource, name=None)\n",
      "  2386858565008: TensorSpec(shape=(), dtype=tf.resource, name=None)\n",
      "  2386858566928: TensorSpec(shape=(), dtype=tf.resource, name=None)\n",
      "  2386858568656: TensorSpec(shape=(), dtype=tf.resource, name=None)\n",
      "  2386858568464: TensorSpec(shape=(), dtype=tf.resource, name=None)\n",
      "  2386858571344: TensorSpec(shape=(), dtype=tf.resource, name=None)\n",
      "  2386858564432: TensorSpec(shape=(), dtype=tf.resource, name=None)\n",
      "  2386858568848: TensorSpec(shape=(), dtype=tf.resource, name=None)\n",
      "  2386858570576: TensorSpec(shape=(), dtype=tf.resource, name=None)\n",
      "  2386858571152: TensorSpec(shape=(), dtype=tf.resource, name=None)\n",
      "  2386858570768: TensorSpec(shape=(), dtype=tf.resource, name=None)\n",
      "  2386858566352: TensorSpec(shape=(), dtype=tf.resource, name=None)\n",
      "  2386858571536: TensorSpec(shape=(), dtype=tf.resource, name=None)\n",
      "  2386858573264: TensorSpec(shape=(), dtype=tf.resource, name=None)\n",
      "  2386858573072: TensorSpec(shape=(), dtype=tf.resource, name=None)\n",
      "  2386858572688: TensorSpec(shape=(), dtype=tf.resource, name=None)\n",
      "  2386858569040: TensorSpec(shape=(), dtype=tf.resource, name=None)\n",
      "  2386858573456: TensorSpec(shape=(), dtype=tf.resource, name=None)\n",
      "  2386858558480: TensorSpec(shape=(), dtype=tf.resource, name=None)\n",
      "  2386858559056: TensorSpec(shape=(), dtype=tf.resource, name=None)\n",
      "  2386858558672: TensorSpec(shape=(), dtype=tf.resource, name=None)\n",
      "  2386858570960: TensorSpec(shape=(), dtype=tf.resource, name=None)\n",
      "  2386858572880: TensorSpec(shape=(), dtype=tf.resource, name=None)\n",
      "  2386858561168: TensorSpec(shape=(), dtype=tf.resource, name=None)\n",
      "  2386858560976: TensorSpec(shape=(), dtype=tf.resource, name=None)\n",
      "  2386858560592: TensorSpec(shape=(), dtype=tf.resource, name=None)\n",
      "  2386858573648: TensorSpec(shape=(), dtype=tf.resource, name=None)\n",
      "  2386858558096: TensorSpec(shape=(), dtype=tf.resource, name=None)\n",
      "  2386858566160: TensorSpec(shape=(), dtype=tf.resource, name=None)\n",
      "  2386858560400: TensorSpec(shape=(), dtype=tf.resource, name=None)\n",
      "  2386858565968: TensorSpec(shape=(), dtype=tf.resource, name=None)\n",
      "  2386858558864: TensorSpec(shape=(), dtype=tf.resource, name=None)\n",
      "  2386858560784: TensorSpec(shape=(), dtype=tf.resource, name=None)\n",
      "  2386858561936: TensorSpec(shape=(), dtype=tf.resource, name=None)\n",
      "  2386858563664: TensorSpec(shape=(), dtype=tf.resource, name=None)\n",
      "  2386858560208: TensorSpec(shape=(), dtype=tf.resource, name=None)\n",
      "  2386858561360: TensorSpec(shape=(), dtype=tf.resource, name=None)\n",
      "  2386858558288: TensorSpec(shape=(), dtype=tf.resource, name=None)\n",
      "  2386858449936: TensorSpec(shape=(), dtype=tf.resource, name=None)\n",
      "  2386858445520: TensorSpec(shape=(), dtype=tf.resource, name=None)\n",
      "  2386858449552: TensorSpec(shape=(), dtype=tf.resource, name=None)\n",
      "  2386858451472: TensorSpec(shape=(), dtype=tf.resource, name=None)\n",
      "  2386858443600: TensorSpec(shape=(), dtype=tf.resource, name=None)\n",
      "  2386858451856: TensorSpec(shape=(), dtype=tf.resource, name=None)\n",
      "  2386858451664: TensorSpec(shape=(), dtype=tf.resource, name=None)\n",
      "  2386858454160: TensorSpec(shape=(), dtype=tf.resource, name=None)\n",
      "  2386858443408: TensorSpec(shape=(), dtype=tf.resource, name=None)\n",
      "  2386858449744: TensorSpec(shape=(), dtype=tf.resource, name=None)\n",
      "  2386858455888: TensorSpec(shape=(), dtype=tf.resource, name=None)\n",
      "  2386858456272: TensorSpec(shape=(), dtype=tf.resource, name=None)\n",
      "  2386858456080: TensorSpec(shape=(), dtype=tf.resource, name=None)\n",
      "  2386858455696: TensorSpec(shape=(), dtype=tf.resource, name=None)\n",
      "  2386858453776: TensorSpec(shape=(), dtype=tf.resource, name=None)\n",
      "  2386858445712: TensorSpec(shape=(), dtype=tf.resource, name=None)\n",
      "  2386858447056: TensorSpec(shape=(), dtype=tf.resource, name=None)\n",
      "  2386858449168: TensorSpec(shape=(), dtype=tf.resource, name=None)\n",
      "  2386858452048: TensorSpec(shape=(), dtype=tf.resource, name=None)\n",
      "  2386858447632: TensorSpec(shape=(), dtype=tf.resource, name=None)\n",
      "  2386858443024: TensorSpec(shape=(), dtype=tf.resource, name=None)\n",
      "  2386858443216: TensorSpec(shape=(), dtype=tf.resource, name=None)\n",
      "  2386858447824: TensorSpec(shape=(), dtype=tf.resource, name=None)\n",
      "  2386858453968: TensorSpec(shape=(), dtype=tf.resource, name=None)\n",
      "  2386858449360: TensorSpec(shape=(), dtype=tf.resource, name=None)\n",
      "  2386858444944: TensorSpec(shape=(), dtype=tf.resource, name=None)\n",
      "  2386858447248: TensorSpec(shape=(), dtype=tf.resource, name=None)\n",
      "  2386858445136: TensorSpec(shape=(), dtype=tf.resource, name=None)\n",
      "  2386858447440: TensorSpec(shape=(), dtype=tf.resource, name=None)\n",
      "  2386858451280: TensorSpec(shape=(), dtype=tf.resource, name=None)\n",
      "  2386858458384: TensorSpec(shape=(), dtype=tf.resource, name=None)\n",
      "  2386858457808: TensorSpec(shape=(), dtype=tf.resource, name=None)\n",
      "  2386858455504: TensorSpec(shape=(), dtype=tf.resource, name=None)\n",
      "  2386858442832: TensorSpec(shape=(), dtype=tf.resource, name=None)\n",
      "  2384112162704: TensorSpec(shape=(), dtype=tf.resource, name=None)\n",
      "  2386858453392: TensorSpec(shape=(), dtype=tf.resource, name=None)\n",
      "  2386858453584: TensorSpec(shape=(), dtype=tf.resource, name=None)\n",
      "  2386858457616: TensorSpec(shape=(), dtype=tf.resource, name=None)\n",
      "  2386858445328: TensorSpec(shape=(), dtype=tf.resource, name=None)\n",
      "  2386858458000: TensorSpec(shape=(), dtype=tf.resource, name=None)\n",
      "  2387318277136: TensorSpec(shape=(), dtype=tf.resource, name=None)\n",
      "  2387318276944: TensorSpec(shape=(), dtype=tf.resource, name=None)\n",
      "  2387318277328: TensorSpec(shape=(), dtype=tf.resource, name=None)\n",
      "  2387318276176: TensorSpec(shape=(), dtype=tf.resource, name=None)\n",
      "  2387318276560: TensorSpec(shape=(), dtype=tf.resource, name=None)\n",
      "  2387318278096: TensorSpec(shape=(), dtype=tf.resource, name=None)\n",
      "  2387318277904: TensorSpec(shape=(), dtype=tf.resource, name=None)\n",
      "  2387318278288: TensorSpec(shape=(), dtype=tf.resource, name=None)\n",
      "  2387318276368: TensorSpec(shape=(), dtype=tf.resource, name=None)\n",
      "  2387318277520: TensorSpec(shape=(), dtype=tf.resource, name=None)\n",
      "  2387318279056: TensorSpec(shape=(), dtype=tf.resource, name=None)\n",
      "  2387318278864: TensorSpec(shape=(), dtype=tf.resource, name=None)\n",
      "  2387318279248: TensorSpec(shape=(), dtype=tf.resource, name=None)\n",
      "  2387318276752: TensorSpec(shape=(), dtype=tf.resource, name=None)\n",
      "  2387318278480: TensorSpec(shape=(), dtype=tf.resource, name=None)\n",
      "  2387318280016: TensorSpec(shape=(), dtype=tf.resource, name=None)\n",
      "  2387318279824: TensorSpec(shape=(), dtype=tf.resource, name=None)\n",
      "  2387318280208: TensorSpec(shape=(), dtype=tf.resource, name=None)\n",
      "  2387318277712: TensorSpec(shape=(), dtype=tf.resource, name=None)\n",
      "  2387318279440: TensorSpec(shape=(), dtype=tf.resource, name=None)\n",
      "  2387318280976: TensorSpec(shape=(), dtype=tf.resource, name=None)\n",
      "  2387318280784: TensorSpec(shape=(), dtype=tf.resource, name=None)\n",
      "  2387318281168: TensorSpec(shape=(), dtype=tf.resource, name=None)\n",
      "  2387318278672: TensorSpec(shape=(), dtype=tf.resource, name=None)\n",
      "  2387318280400: TensorSpec(shape=(), dtype=tf.resource, name=None)\n",
      "  2387318281936: TensorSpec(shape=(), dtype=tf.resource, name=None)\n",
      "  2387318281744: TensorSpec(shape=(), dtype=tf.resource, name=None)\n",
      "  2387318282128: TensorSpec(shape=(), dtype=tf.resource, name=None)\n",
      "  2387318279632: TensorSpec(shape=(), dtype=tf.resource, name=None)\n",
      "  2387318281360: TensorSpec(shape=(), dtype=tf.resource, name=None)\n",
      "  2387318282896: TensorSpec(shape=(), dtype=tf.resource, name=None)\n",
      "  2387318282704: TensorSpec(shape=(), dtype=tf.resource, name=None)\n",
      "  2387318283088: TensorSpec(shape=(), dtype=tf.resource, name=None)\n",
      "  2387318280592: TensorSpec(shape=(), dtype=tf.resource, name=None)\n",
      "  2387318282512: TensorSpec(shape=(), dtype=tf.resource, name=None)\n",
      "  2387318284048: TensorSpec(shape=(), dtype=tf.resource, name=None)\n",
      "  2387318283664: TensorSpec(shape=(), dtype=tf.resource, name=None)\n",
      "  2387318284624: TensorSpec(shape=(), dtype=tf.resource, name=None)\n",
      "  2387318284240: TensorSpec(shape=(), dtype=tf.resource, name=None)\n",
      "  2387318285200: TensorSpec(shape=(), dtype=tf.resource, name=None)\n"
     ]
    }
   ],
   "source": [
    "# Buat converter\n",
    "converter = tf.lite.TFLiteConverter.from_keras_model(model)\n",
    "\n",
    "# (Optional) Optimisasi ukuran\n",
    "converter.optimizations = [tf.lite.Optimize.DEFAULT]\n",
    "\n",
    "# Konversi\n",
    "tflite_model = converter.convert()\n",
    "\n",
    "# Simpan model .tflite\n",
    "with open('model.tflite', 'wb') as f:\n",
    "    f.write(tflite_model)"
   ]
  },
  {
   "cell_type": "code",
   "execution_count": 127,
   "id": "86c3ddc9",
   "metadata": {},
   "outputs": [
    {
     "name": "stdout",
     "output_type": "stream",
     "text": [
      "2.20.0\n"
     ]
    }
   ],
   "source": [
    "print(tf.__version__)"
   ]
  },
  {
   "cell_type": "code",
   "execution_count": 144,
   "id": "322d1a70",
   "metadata": {},
   "outputs": [
    {
     "name": "stdout",
     "output_type": "stream",
     "text": [
      "{'Sampah-Anorganik': 0, 'Sampah-B3': 1, 'Sampah-Elektronik': 2, 'Sampah-Organik': 3, 'Sampah-Residu': 4}\n"
     ]
    }
   ],
   "source": [
    "class_names = train_generator.class_indices\n",
    "print(class_names)"
   ]
  },
  {
   "cell_type": "code",
   "execution_count": 153,
   "id": "f94ec724",
   "metadata": {},
   "outputs": [
    {
     "name": "stdout",
     "output_type": "stream",
     "text": [
      "Prediksi: b3 (1.00)\n"
     ]
    }
   ],
   "source": [
    "# Load model\n",
    "interpreter = tf.lite.Interpreter(model_path=\"model.tflite\")\n",
    "interpreter.allocate_tensors()\n",
    "\n",
    "# Ambil detail input & output\n",
    "input_details = interpreter.get_input_details()\n",
    "output_details = interpreter.get_output_details()\n",
    "\n",
    "labels = [\"anorganik\", \"b3\", \"elektronik\", \"organik\", \"residu\"]\n",
    "\n",
    "# Fungsi preprocessing gambar\n",
    "def preprocess_image(image_path, input_shape):\n",
    "    img = Image.open(image_path).convert(\"RGB\")\n",
    "    img = img.resize((input_shape[1], input_shape[2]))\n",
    "    img = np.array(img, dtype=input_details[0]['dtype'])\n",
    "    img = np.expand_dims(img, axis=0) \n",
    "    return img\n",
    "\n",
    "# Uji 1 gambar\n",
    "image_path = \"2.jpg\"\n",
    "input_shape = input_details[0]['shape']\n",
    "img = preprocess_image(image_path, input_shape)\n",
    "\n",
    "# Set input\n",
    "interpreter.set_tensor(input_details[0]['index'], img)\n",
    "\n",
    "# Run inference\n",
    "interpreter.invoke()\n",
    "\n",
    "# Ambil output\n",
    "output_data = interpreter.get_tensor(output_details[0]['index'])[0]\n",
    "pred_idx = np.argmax(output_data)\n",
    "pred_label = labels[pred_idx]\n",
    "confidence = output_data[pred_idx]\n",
    "\n",
    "print(f\"Prediksi: {pred_label} ({confidence:.2f})\")\n"
   ]
  }
 ],
 "metadata": {
  "kernelspec": {
   "display_name": "Python 3",
   "language": "python",
   "name": "python3"
  },
  "language_info": {
   "codemirror_mode": {
    "name": "ipython",
    "version": 3
   },
   "file_extension": ".py",
   "mimetype": "text/x-python",
   "name": "python",
   "nbconvert_exporter": "python",
   "pygments_lexer": "ipython3",
   "version": "3.13.5"
  }
 },
 "nbformat": 4,
 "nbformat_minor": 5
}
