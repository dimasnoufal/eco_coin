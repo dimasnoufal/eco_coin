{
 "cells": [
  {
   "cell_type": "code",
   "execution_count": 1,
   "id": "891ba230",
   "metadata": {},
   "outputs": [],
   "source": [
    "import os, shutil\n",
    "import random\n",
    "import numpy as np\n",
    "import pandas as pd\n",
    "import matplotlib.pyplot as plt\n",
    "import seaborn as sns\n",
    "from pathlib import Path\n",
    "\n",
    "from tqdm.notebook import tqdm as tq"
   ]
  },
  {
   "cell_type": "code",
   "execution_count": 2,
   "id": "0c7150ec",
   "metadata": {},
   "outputs": [],
   "source": [
    "import cv2\n",
    "import skimage\n",
    "\n",
    "from PIL import Image\n",
    "from skimage import io\n",
    "from skimage.transform import resize, rotate, AffineTransform, warp\n",
    "from skimage.exposure import adjust_gamma\n",
    "from skimage.util import random_noise, img_as_ubyte"
   ]
  },
  {
   "cell_type": "code",
   "execution_count": 3,
   "id": "a4187d84",
   "metadata": {},
   "outputs": [],
   "source": [
    "import keras\n",
    "import tensorflow as tf\n",
    "\n",
    "from sklearn.model_selection import train_test_split\n",
    "\n",
    "from keras import Model, layers\n",
    "from keras.preprocessing import image\n",
    "from tensorflow.keras.preprocessing.image import ImageDataGenerator\n",
    "from keras.optimizers import Adam\n",
    "from keras.applications import MobileNetV2\n",
    "from keras.layers import Conv2D, MaxPool2D, Dense, Flatten, Dropout, BatchNormalization, GlobalAveragePooling2D\n",
    "from keras.callbacks import EarlyStopping, ReduceLROnPlateau\n",
    "from keras.losses import SparseCategoricalCrossentropy\n",
    "from keras.models import Sequential\n",
    "from keras.callbacks import Callback\n",
    "from keras.layers import TFSMLayer"
   ]
  },
  {
   "cell_type": "code",
   "execution_count": 4,
   "id": "a4541eeb",
   "metadata": {},
   "outputs": [],
   "source": [
    "import warnings\n",
    "warnings.simplefilter(action='ignore', category=FutureWarning)"
   ]
  },
  {
   "cell_type": "code",
   "execution_count": 34,
   "id": "21a6d6f6",
   "metadata": {},
   "outputs": [],
   "source": [
    "trash_img = {}\n",
    "\n",
    "path = \"./Dataset_Final\"\n",
    "\n",
    "for i in os.listdir(path):\n",
    "    trash_img[i] = os.listdir(os.path.join(path, i))"
   ]
  },
  {
   "cell_type": "code",
   "execution_count": 35,
   "id": "3d0e4a26",
   "metadata": {},
   "outputs": [
    {
     "name": "stdout",
     "output_type": "stream",
     "text": [
      "0 Sampah-Anorganik\n",
      "1 Sampah-B3\n",
      "2 Sampah-Elektronik\n",
      "3 Sampah-Organik\n",
      "4 Sampah-Residu\n"
     ]
    }
   ],
   "source": [
    "for i, class_name in enumerate(os.listdir(path)):\n",
    "    print(i, class_name)"
   ]
  },
  {
   "cell_type": "code",
   "execution_count": 36,
   "id": "aca0e4c7",
   "metadata": {},
   "outputs": [
    {
     "data": {
      "image/png": "[encoded data removed]",
      "text/plain": [
       "<Figure size 600x600 with 1 Axes>"
      ]
     },
     "metadata": {},
     "output_type": "display_data"
    }
   ],
   "source": [
    "trash_path = \"./Dataset_Final\"\n",
    "\n",
    "file_name = []\n",
    "labels = []\n",
    "full_path = []\n",
    "\n",
    "for path, subdirs, files in os.walk(trash_path):\n",
    "    for name in files:\n",
    "        full_path.append(os.path.join(path, name))\n",
    "        labels.append(os.path.basename(path))\n",
    "        file_name.append(name)\n",
    "\n",
    "distribution_train = pd.DataFrame({\"path\": full_path, 'file_name': file_name, 'labels': labels})\n",
    "\n",
    "Label = distribution_train['labels']\n",
    "plt.figure(figsize=(6,6))\n",
    "sns.set_style(\"darkgrid\")\n",
    "plot_data = sns.countplot(Label)"
   ]
  },
  {
   "cell_type": "code",
   "execution_count": 37,
   "id": "cea288ce",
   "metadata": {},
   "outputs": [],
   "source": [
    "def anticlockwise_rotation(img):\n",
    "    img = cv2.cvtColor(img, 0)\n",
    "    img = cv2.resize(img, (224, 224))\n",
    "    sudut = random.randint(0, 180)\n",
    "    return rotate(img, sudut)\n",
    "\n",
    "def clockwise_rotation(img):\n",
    "    img = cv2.cvtColor(img, 0)\n",
    "    img = cv2.resize(img, (224, 224))\n",
    "    sudut = random.randint(0, 180)\n",
    "    return rotate(img, -sudut)\n",
    "\n",
    "def flip_up_down(img):\n",
    "    img = cv2.cvtColor(img, 0)\n",
    "    img = cv2.resize(img, (224, 224))\n",
    "    return np.flipud(img)\n",
    "\n",
    "def add_brightness(img):\n",
    "    img = cv2.cvtColor(img, 0)\n",
    "    img = cv2.resize(img, (224, 224))\n",
    "    img = adjust_gamma(img, gamma=0.5, gain=1)\n",
    "    return img\n",
    "\n",
    "def blur_image(img):\n",
    "    img = cv2.cvtColor(img, 0)\n",
    "    img = cv2.resize(img, (224, 224))\n",
    "    return cv2.GaussianBlur(img, (7, 7), 0)\n",
    "\n",
    "def sheared(img):\n",
    "    img = cv2.cvtColor(img, 0)\n",
    "    img = cv2.resize(img, (224, 224))\n",
    "    transform = AffineTransform(shear=0.25)\n",
    "    shear_img = warp(img, transform, mode=\"wrap\")\n",
    "    return shear_img\n",
    "\n",
    "def warp_shift(img):\n",
    "    img = cv2.cvtColor(img, 0)\n",
    "    img = cv2.resize(img, (224, 224))\n",
    "    transform = AffineTransform(translation=(0, 30))\n",
    "    warp_img = warp(img, transform, mode=\"wrap\")\n",
    "    return warp_img"
   ]
  },
  {
   "cell_type": "code",
   "execution_count": 38,
   "id": "0de42b1e",
   "metadata": {},
   "outputs": [],
   "source": [
    "transformations = {\n",
    "    'rotate anticlockwise': anticlockwise_rotation,\n",
    "    'rotate clockwise': clockwise_rotation,\n",
    "    'warp shift': warp_shift,\n",
    "    'bluring image': blur_image,\n",
    "    'add brightness': add_brightness,\n",
    "    'flip up down': flip_up_down,\n",
    "    'shear image': sheared\n",
    "}\n",
    "\n",
    "data_classes = {\n",
    "    \"Sampah-B3\": {\n",
    "        \"image_path\": \"./Dataset_Final/Sampah-B3\",\n",
    "        \"augmented_path\": \"./Dataset_Final/Sampah-B3\",\n",
    "        \"target\": 400\n",
    "    },\n",
    "    \"Sampah-Elektronik\": {\n",
    "        \"image_path\": \"./Dataset_Final/Sampah-Elektronik\", \n",
    "        \"augmented_path\": \"./Dataset_Final/Sampah-Elektronik\",\n",
    "        \"target\": 200\n",
    "    },\n",
    "    \"Sampah-Organik\": {\n",
    "        \"image_path\": \"./Dataset_Final/Sampah-Organik\",\n",
    "        \"augmented_path\": \"./Dataset_Final/Sampah-Organik\",\n",
    "        \"target\": 200\n",
    "    },\n",
    "    \"Sampah-Residu\": {\n",
    "        \"image_path\": \"./Dataset_Final/Sampah-Residu\",\n",
    "        \"augmented_path\": \"./Dataset_Final/Sampah-Residu\",\n",
    "        \"target\": 1000\n",
    "    }\n",
    "}\n",
    "\n",
    "for kelas_data, data in data_classes.items():\n",
    "    image_path = data[\"image_path\"]\n",
    "    augmented_path = data[\"augmented_path\"]\n",
    "    images_to_generate = data[\"target\"]\n",
    "\n",
    "    images = []\n",
    "\n",
    "    for img in os.listdir(image_path):\n",
    "        images.append(os.path.join(image_path, img))\n",
    "\n",
    "    i = 1\n",
    "    while i <= images_to_generate:\n",
    "        image = random.choice(images)\n",
    "        try:\n",
    "            original_img = io.imread(image)\n",
    "            transformed_img = None\n",
    "            n = 0\n",
    "            transformation_count = random.randint(1, len(transformations))\n",
    "\n",
    "            while n <= transformation_count:\n",
    "                key = random.choice(list(transformations))\n",
    "                transformed_img = transformations[key](original_img)\n",
    "                n =  n + 1\n",
    "            \n",
    "            original_name = os.path.basename(image)\n",
    "            filename = f\"{os.path.splitext(original_name)[0]}_augmented_{i}.jpg\"\n",
    "            new_image_path = os.path.join(image_path, filename)\n",
    "\n",
    "            transformed_img = img_as_ubyte(transformed_img)\n",
    "            cv2.imwrite(new_image_path, transformed_img)\n",
    "            i += 1\n",
    "\n",
    "        except ValueError as e:\n",
    "            print('could not read the ', image, ' :', e, ' hence skipping it')\n"
   ]
  },
  {
   "cell_type": "code",
   "execution_count": 39,
   "id": "ce502526",
   "metadata": {},
   "outputs": [
    {
     "data": {
      "image/png": "[encoded data removed]",
      "text/plain": [
       "<Figure size 600x600 with 1 Axes>"
      ]
     },
     "metadata": {},
     "output_type": "display_data"
    }
   ],
   "source": [
    "trash_path = \"./Dataset_Final\"\n",
    "\n",
    "file_name = []\n",
    "labels = []\n",
    "full_path = []\n",
    "\n",
    "for path, subdirs, files in os.walk(trash_path):\n",
    "    for name in files:\n",
    "        full_path.append(os.path.join(path, name))\n",
    "        labels.append(os.path.basename(path))\n",
    "        file_name.append(name)\n",
    "\n",
    "distribution_train = pd.DataFrame({\"path\": full_path, 'file_name': file_name, 'labels': labels})\n",
    "\n",
    "Label = distribution_train['labels']\n",
    "plt.figure(figsize=(6,6))\n",
    "sns.set_style(\"darkgrid\")\n",
    "plot_data = sns.countplot(Label)"
   ]
  },
  {
   "cell_type": "code",
   "execution_count": 40,
   "id": "84052795",
   "metadata": {},
   "outputs": [
    {
     "name": "stdout",
     "output_type": "stream",
     "text": [
      "plastic1.jpg Sampah-Anorganik ./Dataset_Final\\Sampah-Anorganik\\plastic1.jpg\n"
     ]
    }
   ],
   "source": [
    "print(file_name[0], labels[0], full_path[0])"
   ]
  },
  {
   "cell_type": "code",
   "execution_count": 41,
   "id": "b5cb4d7b",
   "metadata": {},
   "outputs": [
    {
     "data": {
      "text/plain": [
       "labels\n",
       "Sampah-Anorganik     2200\n",
       "Sampah-B3            2289\n",
       "Sampah-Elektronik    2141\n",
       "Sampah-Organik       2182\n",
       "Sampah-Residu        2174\n",
       "dtype: int64"
      ]
     },
     "execution_count": 41,
     "metadata": {},
     "output_type": "execute_result"
    }
   ],
   "source": [
    "df = pd.DataFrame({\"path\": full_path, 'file_name': file_name, 'labels': labels})\n",
    "\n",
    "df.groupby(['labels']).size()"
   ]
  },
  {
   "cell_type": "code",
   "execution_count": 42,
   "id": "a979982c",
   "metadata": {},
   "outputs": [],
   "source": [
    "X = df['path']\n",
    "y = df['labels']\n",
    "\n",
    "x_train, x_test, y_train, y_test = train_test_split(X, y, test_size=0.2, random_state=100)"
   ]
  },
  {
   "cell_type": "code",
   "execution_count": 43,
   "id": "80573031",
   "metadata": {},
   "outputs": [],
   "source": [
    "df_tr = pd.DataFrame({'path': x_train, 'labels': y_train, 'set': 'train'})\n",
    "df_te = pd.DataFrame({'path': x_test, 'labels': y_test, 'set': 'test'})"
   ]
  },
  {
   "cell_type": "code",
   "execution_count": 44,
   "id": "a379e174",
   "metadata": {},
   "outputs": [
    {
     "name": "stdout",
     "output_type": "stream",
     "text": [
      "set    labels           \n",
      "test   Sampah-Anorganik      460\n",
      "       Sampah-B3             447\n",
      "       Sampah-Elektronik     408\n",
      "       Sampah-Organik        425\n",
      "       Sampah-Residu         458\n",
      "train  Sampah-Anorganik     1740\n",
      "       Sampah-B3            1842\n",
      "       Sampah-Elektronik    1733\n",
      "       Sampah-Organik       1757\n",
      "       Sampah-Residu        1716\n",
      "dtype: int64 \n",
      "\n",
      "                                                   path            labels  \\\n",
      "4148   ./Dataset_Final\\Sampah-Organik\\biological945.jpg    Sampah-Organik   \n",
      "6114    ./Dataset_Final\\Sampah-Anorganik\\plastic720.jpg  Sampah-Anorganik   \n",
      "3012   ./Dataset_Final\\Sampah-Organik\\biological585.jpg    Sampah-Organik   \n",
      "8054  ./Dataset_Final\\Sampah-Residu\\trash346_augment...     Sampah-Residu   \n",
      "3643   ./Dataset_Final\\Sampah-Organik\\biological666.jpg    Sampah-Organik   \n",
      "\n",
      "        set  \n",
      "4148  train  \n",
      "6114  train  \n",
      "3012  train  \n",
      "8054  train  \n",
      "3643  train  \n"
     ]
    }
   ],
   "source": [
    "df_all = pd.concat([df_tr, df_te], ignore_index=True)\n",
    "\n",
    "print(df_all.groupby(['set', 'labels']).size(), '\\n')\n",
    "print(df_all.sample(5))"
   ]
  },
  {
   "cell_type": "code",
   "execution_count": 45,
   "id": "1697102d",
   "metadata": {},
   "outputs": [],
   "source": [
    "datasource_path  = \"./Dataset_Final\"\n",
    "dataset_path = \"./Dataset_Final_Preprocess\""
   ]
  },
  {
   "cell_type": "code",
   "execution_count": 46,
   "id": "0e47fa41",
   "metadata": {},
   "outputs": [
    {
     "data": {
      "application/vnd.jupyter.widget-view+json": {
       "model_id": "6068682e91054f24ac19cdb16b6cd15e",
       "version_major": 2,
       "version_minor": 0
      },
      "text/plain": [
       "0it [00:00, ?it/s]"
      ]
     },
     "metadata": {},
     "output_type": "display_data"
    }
   ],
   "source": [
    "for index, row in tq(df_all.iterrows()):\n",
    "    file_path = row['path']\n",
    "\n",
    "    if not os.path.exists(file_path):\n",
    "        file_path = os.path.join(datasource_path, row['labels'], row['image'])\n",
    "\n",
    "    dest_folder = os.path.join(dataset_path, row['set'], row['labels'])\n",
    "    if not os.path.exists(dest_folder):\n",
    "        os.makedirs(dest_folder)\n",
    "\n",
    "    destination_file_name = os.path.basename(file_path)\n",
    "\n",
    "    file_dest = os.path.join(dest_folder, destination_file_name)\n",
    "\n",
    "    if not os.path.exists(file_dest):\n",
    "        shutil.copy2(file_path, file_dest)\n"
   ]
  },
  {
   "cell_type": "code",
   "execution_count": 47,
   "id": "69f3d377",
   "metadata": {},
   "outputs": [
    {
     "name": "stdout",
     "output_type": "stream",
     "text": [
      "Total sampah anorganik images di train set: 1740\n",
      "Total sampah b3 images di train set: 1842\n",
      "Total sampah elektronik images di train set: 1733\n",
      "Total sampah organik images di train set: 1757\n",
      "Total sampah residu images di train set: 1716\n",
      "\n",
      "\n",
      "Total sampah anorganik images di test set: 460\n",
      "Total sampah b3 images di test set: 447\n",
      "Total sampah elektronik images di test set: 408\n",
      "Total sampah organik images di test set: 425\n",
      "Total sampah residu images di test set: 458\n"
     ]
    }
   ],
   "source": [
    "TRAIN_DIR = \"./Dataset_Final_Preprocess/train\"\n",
    "TEST_DIR = \"./Dataset_Final_Preprocess/test\"\n",
    "\n",
    "train_anorganik = os.path.join(TRAIN_DIR + '/Sampah-Anorganik')\n",
    "train_b3 = os.path.join(TRAIN_DIR + '/Sampah-B3')\n",
    "train_elektronik = os.path.join(TRAIN_DIR + '/Sampah-Elektronik')\n",
    "train_organik = os.path.join(TRAIN_DIR + '/Sampah-Organik')\n",
    "train_residu = os.path.join(TRAIN_DIR + '/Sampah-Residu')\n",
    "test_anorganik = os.path.join(TEST_DIR + '/Sampah-Anorganik')\n",
    "test_b3 = os.path.join(TEST_DIR + '/Sampah-B3')\n",
    "test_elektronik = os.path.join(TEST_DIR + '/Sampah-Elektronik')\n",
    "test_organik = os.path.join(TEST_DIR + '/Sampah-Organik')\n",
    "test_residu = os.path.join(TEST_DIR + '/Sampah-Residu')\n",
    "\n",
    "print(\"Total sampah anorganik images di train set:\", len(os.listdir(train_anorganik)))\n",
    "print(\"Total sampah b3 images di train set:\", len(os.listdir(train_b3)))\n",
    "print(\"Total sampah elektronik images di train set:\", len(os.listdir(train_elektronik)))\n",
    "print(\"Total sampah organik images di train set:\", len(os.listdir(train_organik)))\n",
    "print(\"Total sampah residu images di train set:\", len(os.listdir(train_residu)))\n",
    "print(\"\\n\")\n",
    "print(\"Total sampah anorganik images di test set:\", len(os.listdir(test_anorganik)))\n",
    "print(\"Total sampah b3 images di test set:\", len(os.listdir(test_b3)))\n",
    "print(\"Total sampah elektronik images di test set:\", len(os.listdir(test_elektronik)))\n",
    "print(\"Total sampah organik images di test set:\", len(os.listdir(test_organik)))\n",
    "print(\"Total sampah residu images di test set:\", len(os.listdir(test_residu)))"
   ]
  },
  {
   "cell_type": "code",
   "execution_count": 48,
   "id": "4235e115",
   "metadata": {},
   "outputs": [
    {
     "name": "stdout",
     "output_type": "stream",
     "text": [
      "Found 7032 images belonging to 5 classes.\n",
      "Found 1756 images belonging to 5 classes.\n",
      "Found 2198 images belonging to 5 classes.\n"
     ]
    }
   ],
   "source": [
    "datagen = ImageDataGenerator(rescale=1/.255, validation_split=0.2)\n",
    "test_datagen = ImageDataGenerator(rescale=1/.255)\n",
    "\n",
    "train_generator = datagen.flow_from_directory(\n",
    "    TRAIN_DIR,\n",
    "    batch_size = 32,\n",
    "    target_size = (224, 224),\n",
    "    color_mode = 'rgb',\n",
    "    class_mode = 'sparse',\n",
    "    subset = 'training',\n",
    "    shuffle = True\n",
    ")\n",
    "\n",
    "validation_generator = datagen.flow_from_directory(\n",
    "    TRAIN_DIR,\n",
    "    batch_size = 32,\n",
    "    target_size = (224, 224),\n",
    "    color_mode = 'rgb',\n",
    "    class_mode = 'sparse',\n",
    "    subset = 'validation',\n",
    "    shuffle = False\n",
    ")\n",
    "\n",
    "test_generator = datagen.flow_from_directory(\n",
    "    TEST_DIR,\n",
    "    batch_size = 1,\n",
    "    target_size = (224, 224),\n",
    "    color_mode = 'rgb',\n",
    "    class_mode = 'sparse',\n",
    "    shuffle = False\n",
    ")"
   ]
  },
  {
   "cell_type": "code",
   "execution_count": 49,
   "id": "785298f5",
   "metadata": {},
   "outputs": [],
   "source": [
    "base_model = MobileNetV2(\n",
    "    input_shape=(224, 224, 3),\n",
    "    include_top=False,\n",
    "    weights=\"imagenet\"\n",
    ")\n",
    "\n",
    "base_model.trainable = False  # freeze dulu\n",
    "\n",
    "model_1 = Sequential([\n",
    "    base_model,\n",
    "    GlobalAveragePooling2D(),\n",
    "\n",
    "    Dense(256, activation='relu'),\n",
    "    Dropout(0.5),\n",
    "    Dense(128, activation='relu'),\n",
    "    Dropout(0.3),\n",
    "    Dense(5, activation='softmax')\n",
    "])"
   ]
  },
  {
   "cell_type": "code",
   "execution_count": 61,
   "id": "69a1ad39",
   "metadata": {},
   "outputs": [],
   "source": [
    "# model_1 = Sequential()\n",
    "\n",
    "# # (224, 224, 3) = 3 merupakan rgb\n",
    "# model_1.add(Conv2D(32, (3, 3), padding='same', activation='relu', input_shape=(224, 224, 3)))\n",
    "# model_1.add(BatchNormalization())\n",
    "# model_1.add(MaxPool2D((2, 2)))\n",
    "\n",
    "# model_1.add(Conv2D(32, (4, 4), padding='same', activation='relu'))\n",
    "# model_1.add(BatchNormalization())\n",
    "# model_1.add(MaxPool2D((2, 2)))\n",
    "\n",
    "# model_1.add(Conv2D(32, (7, 7), padding='same', activation='relu'))\n",
    "# model_1.add(BatchNormalization())\n",
    "# model_1.add(MaxPool2D((2, 2)))\n",
    "\n",
    "# model_1.add(Flatten())\n",
    "\n",
    "# model_1.add(Dense(256, activation='relu'))\n",
    "# model_1.add(Dropout(0.5))\n",
    "\n",
    "# model_1.add(Dense(128, activation='relu'))\n",
    "# model_1.add(Dropout(0.5))\n",
    "\n",
    "# model_1.add(Dense(64, activation='relu'))\n",
    "# model_1.add(Dropout(0.3))\n",
    "\n",
    "# model_1.add(Dense(5, activation='softmax'))"
   ]
  },
  {
   "cell_type": "code",
   "execution_count": 50,
   "id": "9acae283",
   "metadata": {},
   "outputs": [],
   "source": [
    "model_1.compile(\n",
    "    optimizer = Adam(learning_rate=1e-4),\n",
    "    loss = SparseCategoricalCrossentropy(),\n",
    "    metrics = ['accuracy']\n",
    ")"
   ]
  },
  {
   "cell_type": "code",
   "execution_count": 51,
   "id": "76d3a457",
   "metadata": {},
   "outputs": [
    {
     "data": {
      "text/html": [
       "<pre style=\"white-space:pre;overflow-x:auto;line-height:normal;font-family:Menlo,'DejaVu Sans Mono',consolas,'Courier New',monospace\"><span style=\"font-weight: bold\">Model: \"sequential_1\"</span>\n",
       "</pre>\n"
      ],
      "text/plain": [
       "\u001b[1mModel: \"sequential_1\"\u001b[0m\n"
      ]
     },
     "metadata": {},
     "output_type": "display_data"
    },
    {
     "data": {
      "text/html": [
       "<pre style=\"white-space:pre;overflow-x:auto;line-height:normal;font-family:Menlo,'DejaVu Sans Mono',consolas,'Courier New',monospace\">┏━━━━━━━━━━━━━━━━━━━━━━━━━━━━━━━━━┳━━━━━━━━━━━━━━━━━━━━━━━━┳━━━━━━━━━━━━━━━┓\n",
       "┃<span style=\"font-weight: bold\"> Layer (type)                    </span>┃<span style=\"font-weight: bold\"> Output Shape           </span>┃<span style=\"font-weight: bold\">       Param # </span>┃\n",
       "┡━━━━━━━━━━━━━━━━━━━━━━━━━━━━━━━━━╇━━━━━━━━━━━━━━━━━━━━━━━━╇━━━━━━━━━━━━━━━┩\n",
       "│ mobilenetv2_1.00_224            │ (<span style=\"color: #00d7ff; text-decoration-color: #00d7ff\">None</span>, <span style=\"color: #00af00; text-decoration-color: #00af00\">7</span>, <span style=\"color: #00af00; text-decoration-color: #00af00\">7</span>, <span style=\"color: #00af00; text-decoration-color: #00af00\">1280</span>)     │     <span style=\"color: #00af00; text-decoration-color: #00af00\">2,257,984</span> │\n",
       "│ (<span style=\"color: #0087ff; text-decoration-color: #0087ff\">Functional</span>)                    │                        │               │\n",
       "├─────────────────────────────────┼────────────────────────┼───────────────┤\n",
       "│ global_average_pooling2d_1      │ (<span style=\"color: #00d7ff; text-decoration-color: #00d7ff\">None</span>, <span style=\"color: #00af00; text-decoration-color: #00af00\">1280</span>)           │             <span style=\"color: #00af00; text-decoration-color: #00af00\">0</span> │\n",
       "│ (<span style=\"color: #0087ff; text-decoration-color: #0087ff\">GlobalAveragePooling2D</span>)        │                        │               │\n",
       "├─────────────────────────────────┼────────────────────────┼───────────────┤\n",
       "│ dense_3 (<span style=\"color: #0087ff; text-decoration-color: #0087ff\">Dense</span>)                 │ (<span style=\"color: #00d7ff; text-decoration-color: #00d7ff\">None</span>, <span style=\"color: #00af00; text-decoration-color: #00af00\">256</span>)            │       <span style=\"color: #00af00; text-decoration-color: #00af00\">327,936</span> │\n",
       "├─────────────────────────────────┼────────────────────────┼───────────────┤\n",
       "│ dropout_2 (<span style=\"color: #0087ff; text-decoration-color: #0087ff\">Dropout</span>)             │ (<span style=\"color: #00d7ff; text-decoration-color: #00d7ff\">None</span>, <span style=\"color: #00af00; text-decoration-color: #00af00\">256</span>)            │             <span style=\"color: #00af00; text-decoration-color: #00af00\">0</span> │\n",
       "├─────────────────────────────────┼────────────────────────┼───────────────┤\n",
       "│ dense_4 (<span style=\"color: #0087ff; text-decoration-color: #0087ff\">Dense</span>)                 │ (<span style=\"color: #00d7ff; text-decoration-color: #00d7ff\">None</span>, <span style=\"color: #00af00; text-decoration-color: #00af00\">128</span>)            │        <span style=\"color: #00af00; text-decoration-color: #00af00\">32,896</span> │\n",
       "├─────────────────────────────────┼────────────────────────┼───────────────┤\n",
       "│ dropout_3 (<span style=\"color: #0087ff; text-decoration-color: #0087ff\">Dropout</span>)             │ (<span style=\"color: #00d7ff; text-decoration-color: #00d7ff\">None</span>, <span style=\"color: #00af00; text-decoration-color: #00af00\">128</span>)            │             <span style=\"color: #00af00; text-decoration-color: #00af00\">0</span> │\n",
       "├─────────────────────────────────┼────────────────────────┼───────────────┤\n",
       "│ dense_5 (<span style=\"color: #0087ff; text-decoration-color: #0087ff\">Dense</span>)                 │ (<span style=\"color: #00d7ff; text-decoration-color: #00d7ff\">None</span>, <span style=\"color: #00af00; text-decoration-color: #00af00\">5</span>)              │           <span style=\"color: #00af00; text-decoration-color: #00af00\">645</span> │\n",
       "└─────────────────────────────────┴────────────────────────┴───────────────┘\n",
       "</pre>\n"
      ],
      "text/plain": [
       "┏━━━━━━━━━━━━━━━━━━━━━━━━━━━━━━━━━┳━━━━━━━━━━━━━━━━━━━━━━━━┳━━━━━━━━━━━━━━━┓\n",
       "┃\u001b[1m \u001b[0m\u001b[1mLayer (type)                   \u001b[0m\u001b[1m \u001b[0m┃\u001b[1m \u001b[0m\u001b[1mOutput Shape          \u001b[0m\u001b[1m \u001b[0m┃\u001b[1m \u001b[0m\u001b[1m      Param #\u001b[0m\u001b[1m \u001b[0m┃\n",
       "┡━━━━━━━━━━━━━━━━━━━━━━━━━━━━━━━━━╇━━━━━━━━━━━━━━━━━━━━━━━━╇━━━━━━━━━━━━━━━┩\n",
       "│ mobilenetv2_1.00_224            │ (\u001b[38;5;45mNone\u001b[0m, \u001b[38;5;34m7\u001b[0m, \u001b[38;5;34m7\u001b[0m, \u001b[38;5;34m1280\u001b[0m)     │     \u001b[38;5;34m2,257,984\u001b[0m │\n",
       "│ (\u001b[38;5;33mFunctional\u001b[0m)                    │                        │               │\n",
       "├─────────────────────────────────┼────────────────────────┼───────────────┤\n",
       "│ global_average_pooling2d_1      │ (\u001b[38;5;45mNone\u001b[0m, \u001b[38;5;34m1280\u001b[0m)           │             \u001b[38;5;34m0\u001b[0m │\n",
       "│ (\u001b[38;5;33mGlobalAveragePooling2D\u001b[0m)        │                        │               │\n",
       "├─────────────────────────────────┼────────────────────────┼───────────────┤\n",
       "│ dense_3 (\u001b[38;5;33mDense\u001b[0m)                 │ (\u001b[38;5;45mNone\u001b[0m, \u001b[38;5;34m256\u001b[0m)            │       \u001b[38;5;34m327,936\u001b[0m │\n",
       "├─────────────────────────────────┼────────────────────────┼───────────────┤\n",
       "│ dropout_2 (\u001b[38;5;33mDropout\u001b[0m)             │ (\u001b[38;5;45mNone\u001b[0m, \u001b[38;5;34m256\u001b[0m)            │             \u001b[38;5;34m0\u001b[0m │\n",
       "├─────────────────────────────────┼────────────────────────┼───────────────┤\n",
       "│ dense_4 (\u001b[38;5;33mDense\u001b[0m)                 │ (\u001b[38;5;45mNone\u001b[0m, \u001b[38;5;34m128\u001b[0m)            │        \u001b[38;5;34m32,896\u001b[0m │\n",
       "├─────────────────────────────────┼────────────────────────┼───────────────┤\n",
       "│ dropout_3 (\u001b[38;5;33mDropout\u001b[0m)             │ (\u001b[38;5;45mNone\u001b[0m, \u001b[38;5;34m128\u001b[0m)            │             \u001b[38;5;34m0\u001b[0m │\n",
       "├─────────────────────────────────┼────────────────────────┼───────────────┤\n",
       "│ dense_5 (\u001b[38;5;33mDense\u001b[0m)                 │ (\u001b[38;5;45mNone\u001b[0m, \u001b[38;5;34m5\u001b[0m)              │           \u001b[38;5;34m645\u001b[0m │\n",
       "└─────────────────────────────────┴────────────────────────┴───────────────┘\n"
      ]
     },
     "metadata": {},
     "output_type": "display_data"
    },
    {
     "data": {
      "text/html": [
       "<pre style=\"white-space:pre;overflow-x:auto;line-height:normal;font-family:Menlo,'DejaVu Sans Mono',consolas,'Courier New',monospace\"><span style=\"font-weight: bold\"> Total params: </span><span style=\"color: #00af00; text-decoration-color: #00af00\">2,619,461</span> (9.99 MB)\n",
       "</pre>\n"
      ],
      "text/plain": [
       "\u001b[1m Total params: \u001b[0m\u001b[38;5;34m2,619,461\u001b[0m (9.99 MB)\n"
      ]
     },
     "metadata": {},
     "output_type": "display_data"
    },
    {
     "data": {
      "text/html": [
       "<pre style=\"white-space:pre;overflow-x:auto;line-height:normal;font-family:Menlo,'DejaVu Sans Mono',consolas,'Courier New',monospace\"><span style=\"font-weight: bold\"> Trainable params: </span><span style=\"color: #00af00; text-decoration-color: #00af00\">361,477</span> (1.38 MB)\n",
       "</pre>\n"
      ],
      "text/plain": [
       "\u001b[1m Trainable params: \u001b[0m\u001b[38;5;34m361,477\u001b[0m (1.38 MB)\n"
      ]
     },
     "metadata": {},
     "output_type": "display_data"
    },
    {
     "data": {
      "text/html": [
       "<pre style=\"white-space:pre;overflow-x:auto;line-height:normal;font-family:Menlo,'DejaVu Sans Mono',consolas,'Courier New',monospace\"><span style=\"font-weight: bold\"> Non-trainable params: </span><span style=\"color: #00af00; text-decoration-color: #00af00\">2,257,984</span> (8.61 MB)\n",
       "</pre>\n"
      ],
      "text/plain": [
       "\u001b[1m Non-trainable params: \u001b[0m\u001b[38;5;34m2,257,984\u001b[0m (8.61 MB)\n"
      ]
     },
     "metadata": {},
     "output_type": "display_data"
    },
    {
     "name": "stdout",
     "output_type": "stream",
     "text": [
      "None\n"
     ]
    }
   ],
   "source": [
    "print(model_1.summary())"
   ]
  },
  {
   "cell_type": "code",
   "execution_count": null,
   "id": "c9890d48",
   "metadata": {},
   "outputs": [],
   "source": [
    "# early_stop = EarlyStopping(\n",
    "#     monitor='val_loss',\n",
    "#     patience=10,\n",
    "#     restore_best_weights=True\n",
    "# )\n",
    "\n",
    "# reduce_lr = ReduceLROnPlateau(\n",
    "#     monitor='val_loss',\n",
    "#     factor=0.3,\n",
    "#     patience=5,\n",
    "#     min_lr=1e-6\n",
    "# )"
   ]
  },
  {
   "cell_type": "code",
   "execution_count": 52,
   "id": "b75f9568",
   "metadata": {},
   "outputs": [],
   "source": [
    "class MyCallback(Callback):\n",
    "    def on_epoch_end(self, epoch, logs={}):\n",
    "        if(logs.get('accuracy') > 0.92):\n",
    "            print(\"\\nAkurasi telah mencapai > 92%\")\n",
    "            self.model.stop_training = True\n",
    "\n",
    "callbacks = MyCallback()"
   ]
  },
  {
   "cell_type": "code",
   "execution_count": 53,
   "id": "f44f8334",
   "metadata": {},
   "outputs": [],
   "source": [
    "count_anorganik, count_b3, count_elektronik, count_organik, count_residu = len(os.listdir(train_anorganik)), len(os.listdir(train_b3)), len(os.listdir(train_elektronik)), len(os.listdir(train_organik)), len(os.listdir(train_residu))\n",
    "weight_0 = (1 / count_anorganik) * (count_anorganik + count_b3 + count_elektronik + count_organik + count_residu) / 5.0\n",
    "weight_1 = (1 / count_b3) * (count_anorganik + count_b3 + count_elektronik + count_organik + count_residu) / 5.0\n",
    "weight_2 = (1 / count_elektronik) * (count_anorganik + count_b3 + count_elektronik + count_organik + count_residu) / 5.0\n",
    "weight_3 = (1 / count_organik) * (count_anorganik + count_b3 + count_elektronik + count_organik + count_residu) / 5.0\n",
    "weight_4 = (1 / count_residu) * (count_anorganik + count_b3 + count_elektronik + count_organik + count_residu) / 5.0\n",
    " \n",
    "class_weights = {0 : weight_0, 1 : weight_1, 2 : weight_2, 3 : weight_3, 4 : weight_4}"
   ]
  },
  {
   "cell_type": "code",
   "execution_count": 54,
   "id": "2f37937b",
   "metadata": {},
   "outputs": [
    {
     "name": "stderr",
     "output_type": "stream",
     "text": [
      "c:\\Users\\USER\\AppData\\Local\\Programs\\Python\\Python313\\Lib\\site-packages\\keras\\src\\trainers\\data_adapters\\py_dataset_adapter.py:121: UserWarning: Your `PyDataset` class should call `super().__init__(**kwargs)` in its constructor. `**kwargs` can include `workers`, `use_multiprocessing`, `max_queue_size`. Do not pass these arguments to `fit()`, as they will be ignored.\n",
      "  self._warn_if_super_not_called()\n"
     ]
    },
    {
     "name": "stdout",
     "output_type": "stream",
     "text": [
      "Epoch 1/100\n",
      "\u001b[1m220/220\u001b[0m \u001b[32m━━━━━━━━━━━━━━━━━━━━\u001b[0m\u001b[37m\u001b[0m \u001b[1m158s\u001b[0m 706ms/step - accuracy: 0.4818 - loss: 1.3011 - val_accuracy: 0.6384 - val_loss: 0.9862\n",
      "Epoch 2/100\n",
      "\u001b[1m220/220\u001b[0m \u001b[32m━━━━━━━━━━━━━━━━━━━━\u001b[0m\u001b[37m\u001b[0m \u001b[1m63s\u001b[0m 285ms/step - accuracy: 0.6635 - loss: 0.8903 - val_accuracy: 0.6788 - val_loss: 0.8740\n",
      "Epoch 3/100\n",
      "\u001b[1m220/220\u001b[0m \u001b[32m━━━━━━━━━━━━━━━━━━━━\u001b[0m\u001b[37m\u001b[0m \u001b[1m63s\u001b[0m 288ms/step - accuracy: 0.7136 - loss: 0.7598 - val_accuracy: 0.6965 - val_loss: 0.8288\n",
      "Epoch 4/100\n",
      "\u001b[1m220/220\u001b[0m \u001b[32m━━━━━━━━━━━━━━━━━━━━\u001b[0m\u001b[37m\u001b[0m \u001b[1m64s\u001b[0m 291ms/step - accuracy: 0.7418 - loss: 0.6921 - val_accuracy: 0.7107 - val_loss: 0.7867\n",
      "Epoch 5/100\n",
      "\u001b[1m220/220\u001b[0m \u001b[32m━━━━━━━━━━━━━━━━━━━━\u001b[0m\u001b[37m\u001b[0m \u001b[1m64s\u001b[0m 289ms/step - accuracy: 0.7595 - loss: 0.6498 - val_accuracy: 0.7289 - val_loss: 0.7461\n",
      "Epoch 6/100\n",
      "\u001b[1m220/220\u001b[0m \u001b[32m━━━━━━━━━━━━━━━━━━━━\u001b[0m\u001b[37m\u001b[0m \u001b[1m64s\u001b[0m 289ms/step - accuracy: 0.7801 - loss: 0.6047 - val_accuracy: 0.7301 - val_loss: 0.7630\n",
      "Epoch 7/100\n",
      "\u001b[1m220/220\u001b[0m \u001b[32m━━━━━━━━━━━━━━━━━━━━\u001b[0m\u001b[37m\u001b[0m \u001b[1m64s\u001b[0m 289ms/step - accuracy: 0.7938 - loss: 0.5639 - val_accuracy: 0.7420 - val_loss: 0.7299\n",
      "Epoch 8/100\n",
      "\u001b[1m220/220\u001b[0m \u001b[32m━━━━━━━━━━━━━━━━━━━━\u001b[0m\u001b[37m\u001b[0m \u001b[1m63s\u001b[0m 289ms/step - accuracy: 0.8047 - loss: 0.5361 - val_accuracy: 0.7454 - val_loss: 0.7273\n",
      "Epoch 9/100\n",
      "\u001b[1m220/220\u001b[0m \u001b[32m━━━━━━━━━━━━━━━━━━━━\u001b[0m\u001b[37m\u001b[0m \u001b[1m64s\u001b[0m 290ms/step - accuracy: 0.8137 - loss: 0.5186 - val_accuracy: 0.7557 - val_loss: 0.7030\n",
      "Epoch 10/100\n",
      "\u001b[1m220/220\u001b[0m \u001b[32m━━━━━━━━━━━━━━━━━━━━\u001b[0m\u001b[37m\u001b[0m \u001b[1m63s\u001b[0m 285ms/step - accuracy: 0.8262 - loss: 0.4864 - val_accuracy: 0.7500 - val_loss: 0.7319\n",
      "Epoch 11/100\n",
      "\u001b[1m220/220\u001b[0m \u001b[32m━━━━━━━━━━━━━━━━━━━━\u001b[0m\u001b[37m\u001b[0m \u001b[1m62s\u001b[0m 281ms/step - accuracy: 0.8332 - loss: 0.4662 - val_accuracy: 0.7511 - val_loss: 0.7292\n",
      "Epoch 12/100\n",
      "\u001b[1m220/220\u001b[0m \u001b[32m━━━━━━━━━━━━━━━━━━━━\u001b[0m\u001b[37m\u001b[0m \u001b[1m64s\u001b[0m 290ms/step - accuracy: 0.8389 - loss: 0.4501 - val_accuracy: 0.7659 - val_loss: 0.6880\n",
      "Epoch 13/100\n",
      "\u001b[1m220/220\u001b[0m \u001b[32m━━━━━━━━━━━━━━━━━━━━\u001b[0m\u001b[37m\u001b[0m \u001b[1m93s\u001b[0m 422ms/step - accuracy: 0.8444 - loss: 0.4368 - val_accuracy: 0.7603 - val_loss: 0.6997\n",
      "Epoch 14/100\n",
      "\u001b[1m220/220\u001b[0m \u001b[32m━━━━━━━━━━━━━━━━━━━━\u001b[0m\u001b[37m\u001b[0m \u001b[1m62s\u001b[0m 280ms/step - accuracy: 0.8542 - loss: 0.4079 - val_accuracy: 0.7665 - val_loss: 0.6814\n",
      "Epoch 15/100\n",
      "\u001b[1m220/220\u001b[0m \u001b[32m━━━━━━━━━━━━━━━━━━━━\u001b[0m\u001b[37m\u001b[0m \u001b[1m62s\u001b[0m 281ms/step - accuracy: 0.8530 - loss: 0.4079 - val_accuracy: 0.7677 - val_loss: 0.6796\n",
      "Epoch 16/100\n",
      "\u001b[1m220/220\u001b[0m \u001b[32m━━━━━━━━━━━━━━━━━━━━\u001b[0m\u001b[37m\u001b[0m \u001b[1m78s\u001b[0m 353ms/step - accuracy: 0.8656 - loss: 0.3849 - val_accuracy: 0.7694 - val_loss: 0.6828\n",
      "Epoch 17/100\n",
      "\u001b[1m220/220\u001b[0m \u001b[32m━━━━━━━━━━━━━━━━━━━━\u001b[0m\u001b[37m\u001b[0m \u001b[1m61s\u001b[0m 278ms/step - accuracy: 0.8696 - loss: 0.3712 - val_accuracy: 0.7768 - val_loss: 0.6809\n",
      "Epoch 18/100\n",
      "\u001b[1m220/220\u001b[0m \u001b[32m━━━━━━━━━━━━━━━━━━━━\u001b[0m\u001b[37m\u001b[0m \u001b[1m62s\u001b[0m 283ms/step - accuracy: 0.8767 - loss: 0.3506 - val_accuracy: 0.7768 - val_loss: 0.6636\n",
      "Epoch 19/100\n",
      "\u001b[1m220/220\u001b[0m \u001b[32m━━━━━━━━━━━━━━━━━━━━\u001b[0m\u001b[37m\u001b[0m \u001b[1m61s\u001b[0m 279ms/step - accuracy: 0.8787 - loss: 0.3346 - val_accuracy: 0.7813 - val_loss: 0.6914\n",
      "Epoch 20/100\n",
      "\u001b[1m220/220\u001b[0m \u001b[32m━━━━━━━━━━━━━━━━━━━━\u001b[0m\u001b[37m\u001b[0m \u001b[1m61s\u001b[0m 279ms/step - accuracy: 0.8814 - loss: 0.3307 - val_accuracy: 0.7842 - val_loss: 0.6763\n",
      "Epoch 21/100\n",
      "\u001b[1m220/220\u001b[0m \u001b[32m━━━━━━━━━━━━━━━━━━━━\u001b[0m\u001b[37m\u001b[0m \u001b[1m62s\u001b[0m 281ms/step - accuracy: 0.8868 - loss: 0.3128 - val_accuracy: 0.7859 - val_loss: 0.7091\n",
      "Epoch 22/100\n",
      "\u001b[1m220/220\u001b[0m \u001b[32m━━━━━━━━━━━━━━━━━━━━\u001b[0m\u001b[37m\u001b[0m \u001b[1m64s\u001b[0m 290ms/step - accuracy: 0.8955 - loss: 0.2946 - val_accuracy: 0.7904 - val_loss: 0.6565\n",
      "Epoch 23/100\n",
      "\u001b[1m220/220\u001b[0m \u001b[32m━━━━━━━━━━━━━━━━━━━━\u001b[0m\u001b[37m\u001b[0m \u001b[1m63s\u001b[0m 287ms/step - accuracy: 0.8996 - loss: 0.2871 - val_accuracy: 0.7859 - val_loss: 0.6931\n",
      "Epoch 24/100\n",
      "\u001b[1m220/220\u001b[0m \u001b[32m━━━━━━━━━━━━━━━━━━━━\u001b[0m\u001b[37m\u001b[0m \u001b[1m63s\u001b[0m 286ms/step - accuracy: 0.9010 - loss: 0.2778 - val_accuracy: 0.7882 - val_loss: 0.6947\n",
      "Epoch 25/100\n",
      "\u001b[1m220/220\u001b[0m \u001b[32m━━━━━━━━━━━━━━━━━━━━\u001b[0m\u001b[37m\u001b[0m \u001b[1m63s\u001b[0m 287ms/step - accuracy: 0.9037 - loss: 0.2756 - val_accuracy: 0.7910 - val_loss: 0.6957\n",
      "Epoch 26/100\n",
      "\u001b[1m220/220\u001b[0m \u001b[32m━━━━━━━━━━━━━━━━━━━━\u001b[0m\u001b[37m\u001b[0m \u001b[1m74s\u001b[0m 338ms/step - accuracy: 0.9114 - loss: 0.2568 - val_accuracy: 0.7899 - val_loss: 0.7027\n",
      "Epoch 27/100\n",
      "\u001b[1m220/220\u001b[0m \u001b[32m━━━━━━━━━━━━━━━━━━━━\u001b[0m\u001b[37m\u001b[0m \u001b[1m97s\u001b[0m 440ms/step - accuracy: 0.9144 - loss: 0.2470 - val_accuracy: 0.7927 - val_loss: 0.6636\n",
      "Epoch 28/100\n",
      "\u001b[1m220/220\u001b[0m \u001b[32m━━━━━━━━━━━━━━━━━━━━\u001b[0m\u001b[37m\u001b[0m \u001b[1m0s\u001b[0m 351ms/step - accuracy: 0.9242 - loss: 0.2288\n",
      "Akurasi telah mencapai > 92%\n",
      "\u001b[1m220/220\u001b[0m \u001b[32m━━━━━━━━━━━━━━━━━━━━\u001b[0m\u001b[37m\u001b[0m \u001b[1m118s\u001b[0m 538ms/step - accuracy: 0.9204 - loss: 0.2318 - val_accuracy: 0.7990 - val_loss: 0.6775\n"
     ]
    }
   ],
   "source": [
    "history_1 = model_1.fit(\n",
    "    train_generator,\n",
    "    batch_size=32,\n",
    "    epochs=100,\n",
    "    class_weight=class_weights,\n",
    "    validation_data=validation_generator,\n",
    "    callbacks=[callbacks]\n",
    ")"
   ]
  },
  {
   "cell_type": "code",
   "execution_count": 55,
   "id": "1811b28a",
   "metadata": {},
   "outputs": [
    {
     "name": "stdout",
     "output_type": "stream",
     "text": [
      "\u001b[1m2198/2198\u001b[0m \u001b[32m━━━━━━━━━━━━━━━━━━━━\u001b[0m\u001b[37m\u001b[0m \u001b[1m34s\u001b[0m 15ms/step - accuracy: 0.8649 - loss: 0.4154\n"
     ]
    },
    {
     "data": {
      "text/plain": [
       "[0.41540688276290894, 0.8648771643638611]"
      ]
     },
     "execution_count": 55,
     "metadata": {},
     "output_type": "execute_result"
    }
   ],
   "source": [
    "model_1.evaluate(test_generator, batch_size=5)"
   ]
  },
  {
   "cell_type": "code",
   "execution_count": 56,
   "id": "e0213579",
   "metadata": {},
   "outputs": [
    {
     "name": "stdout",
     "output_type": "stream",
     "text": [
      "\u001b[1m55/55\u001b[0m \u001b[32m━━━━━━━━━━━━━━━━━━━━\u001b[0m\u001b[37m\u001b[0m \u001b[1m15s\u001b[0m 268ms/step\n"
     ]
    },
    {
     "data": {
      "image/png": "[encoded data removed]",
      "text/plain": [
       "<Figure size 800x600 with 2 Axes>"
      ]
     },
     "metadata": {},
     "output_type": "display_data"
    },
    {
     "name": "stdout",
     "output_type": "stream",
     "text": [
      "Classification Report:\n",
      "\n",
      "                   precision    recall  f1-score   support\n",
      "\n",
      " Sampah-Anorganik       0.77      0.83      0.80       348\n",
      "        Sampah-B3       0.77      0.89      0.83       368\n",
      "Sampah-Elektronik       0.87      0.64      0.74       346\n",
      "   Sampah-Organik       0.86      0.91      0.88       351\n",
      "    Sampah-Residu       0.73      0.73      0.73       343\n",
      "\n",
      "         accuracy                           0.80      1756\n",
      "        macro avg       0.80      0.80      0.80      1756\n",
      "     weighted avg       0.80      0.80      0.80      1756\n",
      "\n"
     ]
    }
   ],
   "source": [
    "import numpy as np\n",
    "import matplotlib.pyplot as plt\n",
    "import seaborn as sns\n",
    "from sklearn.metrics import confusion_matrix, classification_report\n",
    "\n",
    "# -----------------------------\n",
    "# Prediksi di validation/test set\n",
    "# -----------------------------\n",
    "y_true = validation_generator.classes  # label asli\n",
    "y_pred_probs = model_1.predict(validation_generator)\n",
    "y_pred = np.argmax(y_pred_probs, axis=1)  # ambil kelas dengan probabilitas tertinggi\n",
    "\n",
    "# -----------------------------\n",
    "# Confusion Matrix\n",
    "# -----------------------------\n",
    "cm = confusion_matrix(y_true, y_pred)\n",
    "class_labels = list(validation_generator.class_indices.keys())  # nama kelas\n",
    "\n",
    "plt.figure(figsize=(8,6))\n",
    "sns.heatmap(cm, annot=True, fmt=\"d\", cmap=\"Blues\",\n",
    "            xticklabels=class_labels, yticklabels=class_labels)\n",
    "plt.xlabel(\"Predicted\")\n",
    "plt.ylabel(\"True\")\n",
    "plt.title(\"Confusion Matrix\")\n",
    "plt.show()\n",
    "\n",
    "# -----------------------------\n",
    "# Classification Report\n",
    "# -----------------------------\n",
    "print(\"Classification Report:\\n\")\n",
    "print(classification_report(y_true, y_pred, target_names=class_labels))\n"
   ]
  },
  {
   "cell_type": "code",
   "execution_count": 57,
   "id": "cfb2d3fe",
   "metadata": {},
   "outputs": [
    {
     "data": {
      "image/png": "[encoded data removed]",
      "text/plain": [
       "<Figure size 640x480 with 1 Axes>"
      ]
     },
     "metadata": {},
     "output_type": "display_data"
    },
    {
     "data": {
      "image/png": "[encoded data removed]",
      "text/plain": [
       "<Figure size 640x480 with 1 Axes>"
      ]
     },
     "metadata": {},
     "output_type": "display_data"
    }
   ],
   "source": [
    "acc = history_1.history['accuracy']\n",
    "val_acc = history_1.history['val_accuracy']\n",
    "loss = history_1.history['loss']\n",
    "val_loss = history_1.history['val_loss']\n",
    " \n",
    "epochs = range(len(acc))\n",
    " \n",
    "plt.plot(epochs, acc, 'r')\n",
    "plt.plot(epochs, val_acc, 'b')\n",
    "plt.title('Training and Validation Accuracy')\n",
    "plt.ylabel('accuracy')\n",
    "plt.xlabel('epoch')\n",
    "plt.legend(['train', 'val'], loc='upper left')\n",
    "plt.show()\n",
    " \n",
    "plt.plot(epochs, loss, 'r')\n",
    "plt.plot(epochs, val_loss, 'b')\n",
    "plt.ylabel('loss')\n",
    "plt.xlabel('epoch')\n",
    "plt.legend(['train', 'val'], loc='upper left')\n",
    "plt.title('Training and Validation Loss')\n",
    "plt.show()"
   ]
  },
  {
   "cell_type": "code",
   "execution_count": 64,
   "id": "c6cf8ed1",
   "metadata": {},
   "outputs": [
    {
     "name": "stderr",
     "output_type": "stream",
     "text": [
      "WARNING:absl:You are saving your model as an HDF5 file via `model.save()` or `keras.saving.save_model(model)`. This file format is considered legacy. We recommend using instead the native Keras format, e.g. `model.save('my_model.keras')` or `keras.saving.save_model(model, 'my_model.keras')`. \n"
     ]
    }
   ],
   "source": [
    "model_1.save(\"model.h5\")"
   ]
  },
  {
   "cell_type": "code",
   "execution_count": 65,
   "id": "82f4fabf",
   "metadata": {},
   "outputs": [
    {
     "name": "stderr",
     "output_type": "stream",
     "text": [
      "WARNING:absl:Compiled the loaded model, but the compiled metrics have yet to be built. `model.compile_metrics` will be empty until you train or evaluate the model.\n"
     ]
    }
   ],
   "source": [
    "model = tf.keras.models.load_model('./model.h5')"
   ]
  },
  {
   "cell_type": "code",
   "execution_count": 66,
   "id": "476ef4ff",
   "metadata": {},
   "outputs": [
    {
     "name": "stdout",
     "output_type": "stream",
     "text": [
      "INFO:tensorflow:Assets written to: C:\\Users\\USER\\AppData\\Local\\Temp\\tmp5e66jq9s\\assets\n"
     ]
    },
    {
     "name": "stderr",
     "output_type": "stream",
     "text": [
      "INFO:tensorflow:Assets written to: C:\\Users\\USER\\AppData\\Local\\Temp\\tmp5e66jq9s\\assets\n"
     ]
    },
    {
     "name": "stdout",
     "output_type": "stream",
     "text": [
      "Saved artifact at 'C:\\Users\\USER\\AppData\\Local\\Temp\\tmp5e66jq9s'. The following endpoints are available:\n",
      "\n",
      "* Endpoint 'serve'\n",
      "  args_0 (POSITIONAL_ONLY): TensorSpec(shape=(None, 224, 224, 3), dtype=tf.float32, name='input_layer_3')\n",
      "Output Type:\n",
      "  TensorSpec(shape=(None, 5), dtype=tf.float32, name=None)\n",
      "Captures:\n",
      "  2040940722320: TensorSpec(shape=(), dtype=tf.resource, name=None)\n",
      "  2040940721744: TensorSpec(shape=(), dtype=tf.resource, name=None)\n",
      "  2040940723472: TensorSpec(shape=(), dtype=tf.resource, name=None)\n",
      "  2040940721552: TensorSpec(shape=(), dtype=tf.resource, name=None)\n",
      "  2040940722512: TensorSpec(shape=(), dtype=tf.resource, name=None)\n",
      "  2040940722128: TensorSpec(shape=(), dtype=tf.resource, name=None)\n",
      "  2040940720784: TensorSpec(shape=(), dtype=tf.resource, name=None)\n",
      "  2040940720976: TensorSpec(shape=(), dtype=tf.resource, name=None)\n",
      "  2040940720400: TensorSpec(shape=(), dtype=tf.resource, name=None)\n",
      "  2040940723664: TensorSpec(shape=(), dtype=tf.resource, name=None)\n",
      "  2040940721360: TensorSpec(shape=(), dtype=tf.resource, name=None)\n",
      "  2040940719632: TensorSpec(shape=(), dtype=tf.resource, name=None)\n",
      "  2040940719824: TensorSpec(shape=(), dtype=tf.resource, name=None)\n",
      "  2040940719440: TensorSpec(shape=(), dtype=tf.resource, name=None)\n",
      "  2040940721936: TensorSpec(shape=(), dtype=tf.resource, name=None)\n",
      "  2040940720208: TensorSpec(shape=(), dtype=tf.resource, name=None)\n",
      "  2040940718864: TensorSpec(shape=(), dtype=tf.resource, name=None)\n",
      "  2040940720592: TensorSpec(shape=(), dtype=tf.resource, name=None)\n",
      "  2040940718672: TensorSpec(shape=(), dtype=tf.resource, name=None)\n",
      "  2040940721168: TensorSpec(shape=(), dtype=tf.resource, name=None)\n",
      "  2040940719248: TensorSpec(shape=(), dtype=tf.resource, name=None)\n",
      "  2040940717904: TensorSpec(shape=(), dtype=tf.resource, name=None)\n",
      "  2040940718096: TensorSpec(shape=(), dtype=tf.resource, name=None)\n",
      "  2040940717712: TensorSpec(shape=(), dtype=tf.resource, name=None)\n",
      "  2040940720016: TensorSpec(shape=(), dtype=tf.resource, name=None)\n",
      "  2040940718480: TensorSpec(shape=(), dtype=tf.resource, name=None)\n",
      "  2040940716944: TensorSpec(shape=(), dtype=tf.resource, name=None)\n",
      "  2040940717136: TensorSpec(shape=(), dtype=tf.resource, name=None)\n",
      "  2040940716752: TensorSpec(shape=(), dtype=tf.resource, name=None)\n",
      "  2040940719056: TensorSpec(shape=(), dtype=tf.resource, name=None)\n",
      "  2040940717520: TensorSpec(shape=(), dtype=tf.resource, name=None)\n",
      "  2040940715984: TensorSpec(shape=(), dtype=tf.resource, name=None)\n",
      "  2040940716176: TensorSpec(shape=(), dtype=tf.resource, name=None)\n",
      "  2040940715792: TensorSpec(shape=(), dtype=tf.resource, name=None)\n",
      "  2040940718288: TensorSpec(shape=(), dtype=tf.resource, name=None)\n",
      "  2040940716560: TensorSpec(shape=(), dtype=tf.resource, name=None)\n",
      "  2040940715024: TensorSpec(shape=(), dtype=tf.resource, name=None)\n",
      "  2040940715216: TensorSpec(shape=(), dtype=tf.resource, name=None)\n",
      "  2040940714832: TensorSpec(shape=(), dtype=tf.resource, name=None)\n",
      "  2040940717328: TensorSpec(shape=(), dtype=tf.resource, name=None)\n",
      "  2040940715600: TensorSpec(shape=(), dtype=tf.resource, name=None)\n",
      "  2040940714064: TensorSpec(shape=(), dtype=tf.resource, name=None)\n",
      "  2040940714256: TensorSpec(shape=(), dtype=tf.resource, name=None)\n",
      "  2040940713872: TensorSpec(shape=(), dtype=tf.resource, name=None)\n",
      "  2040940716368: TensorSpec(shape=(), dtype=tf.resource, name=None)\n",
      "  2040940714640: TensorSpec(shape=(), dtype=tf.resource, name=None)\n",
      "  2040940724048: TensorSpec(shape=(), dtype=tf.resource, name=None)\n",
      "  2040940713488: TensorSpec(shape=(), dtype=tf.resource, name=None)\n",
      "  2039238323152: TensorSpec(shape=(), dtype=tf.resource, name=None)\n",
      "  2040940715408: TensorSpec(shape=(), dtype=tf.resource, name=None)\n",
      "  2040940713680: TensorSpec(shape=(), dtype=tf.resource, name=None)\n",
      "  2039237178384: TensorSpec(shape=(), dtype=tf.resource, name=None)\n",
      "  2039237177808: TensorSpec(shape=(), dtype=tf.resource, name=None)\n",
      "  2040940713296: TensorSpec(shape=(), dtype=tf.resource, name=None)\n",
      "  2040940714448: TensorSpec(shape=(), dtype=tf.resource, name=None)\n",
      "  2040953422288: TensorSpec(shape=(), dtype=tf.resource, name=None)\n",
      "  2040953423056: TensorSpec(shape=(), dtype=tf.resource, name=None)\n",
      "  2040953422864: TensorSpec(shape=(), dtype=tf.resource, name=None)\n",
      "  2040953423248: TensorSpec(shape=(), dtype=tf.resource, name=None)\n",
      "  2040953421904: TensorSpec(shape=(), dtype=tf.resource, name=None)\n",
      "  2040953422480: TensorSpec(shape=(), dtype=tf.resource, name=None)\n",
      "  2040953424016: TensorSpec(shape=(), dtype=tf.resource, name=None)\n",
      "  2040953423824: TensorSpec(shape=(), dtype=tf.resource, name=None)\n",
      "  2040953424208: TensorSpec(shape=(), dtype=tf.resource, name=None)\n",
      "  2040953422096: TensorSpec(shape=(), dtype=tf.resource, name=None)\n",
      "  2040953423440: TensorSpec(shape=(), dtype=tf.resource, name=None)\n",
      "  2040953424976: TensorSpec(shape=(), dtype=tf.resource, name=None)\n",
      "  2040953424784: TensorSpec(shape=(), dtype=tf.resource, name=None)\n",
      "  2040953425168: TensorSpec(shape=(), dtype=tf.resource, name=None)\n",
      "  2040953422672: TensorSpec(shape=(), dtype=tf.resource, name=None)\n",
      "  2040953424400: TensorSpec(shape=(), dtype=tf.resource, name=None)\n",
      "  2040953425936: TensorSpec(shape=(), dtype=tf.resource, name=None)\n",
      "  2040953425744: TensorSpec(shape=(), dtype=tf.resource, name=None)\n",
      "  2040953426128: TensorSpec(shape=(), dtype=tf.resource, name=None)\n",
      "  2040953423632: TensorSpec(shape=(), dtype=tf.resource, name=None)\n",
      "  2040953425360: TensorSpec(shape=(), dtype=tf.resource, name=None)\n",
      "  2040953426896: TensorSpec(shape=(), dtype=tf.resource, name=None)\n",
      "  2040953426704: TensorSpec(shape=(), dtype=tf.resource, name=None)\n",
      "  2040953427088: TensorSpec(shape=(), dtype=tf.resource, name=None)\n",
      "  2040953424592: TensorSpec(shape=(), dtype=tf.resource, name=None)\n",
      "  2040953426320: TensorSpec(shape=(), dtype=tf.resource, name=None)\n",
      "  2040953427856: TensorSpec(shape=(), dtype=tf.resource, name=None)\n",
      "  2040953427664: TensorSpec(shape=(), dtype=tf.resource, name=None)\n",
      "  2040953428048: TensorSpec(shape=(), dtype=tf.resource, name=None)\n",
      "  2040953425552: TensorSpec(shape=(), dtype=tf.resource, name=None)\n",
      "  2040953427280: TensorSpec(shape=(), dtype=tf.resource, name=None)\n",
      "  2040953428816: TensorSpec(shape=(), dtype=tf.resource, name=None)\n",
      "  2040953428624: TensorSpec(shape=(), dtype=tf.resource, name=None)\n",
      "  2040953429008: TensorSpec(shape=(), dtype=tf.resource, name=None)\n",
      "  2040953426512: TensorSpec(shape=(), dtype=tf.resource, name=None)\n",
      "  2040953428240: TensorSpec(shape=(), dtype=tf.resource, name=None)\n",
      "  2040953429776: TensorSpec(shape=(), dtype=tf.resource, name=None)\n",
      "  2040953429584: TensorSpec(shape=(), dtype=tf.resource, name=None)\n",
      "  2040953429968: TensorSpec(shape=(), dtype=tf.resource, name=None)\n",
      "  2040953427472: TensorSpec(shape=(), dtype=tf.resource, name=None)\n",
      "  2040953429200: TensorSpec(shape=(), dtype=tf.resource, name=None)\n",
      "  2040953430736: TensorSpec(shape=(), dtype=tf.resource, name=None)\n",
      "  2040953430544: TensorSpec(shape=(), dtype=tf.resource, name=None)\n",
      "  2040953430928: TensorSpec(shape=(), dtype=tf.resource, name=None)\n",
      "  2040953428432: TensorSpec(shape=(), dtype=tf.resource, name=None)\n",
      "  2040953430160: TensorSpec(shape=(), dtype=tf.resource, name=None)\n",
      "  2040953431696: TensorSpec(shape=(), dtype=tf.resource, name=None)\n",
      "  2040953431504: TensorSpec(shape=(), dtype=tf.resource, name=None)\n",
      "  2040953431888: TensorSpec(shape=(), dtype=tf.resource, name=None)\n",
      "  2040953429392: TensorSpec(shape=(), dtype=tf.resource, name=None)\n",
      "  2040953431120: TensorSpec(shape=(), dtype=tf.resource, name=None)\n",
      "  2040953432656: TensorSpec(shape=(), dtype=tf.resource, name=None)\n",
      "  2040953432464: TensorSpec(shape=(), dtype=tf.resource, name=None)\n",
      "  2040953432848: TensorSpec(shape=(), dtype=tf.resource, name=None)\n",
      "  2040953430352: TensorSpec(shape=(), dtype=tf.resource, name=None)\n",
      "  2040953432080: TensorSpec(shape=(), dtype=tf.resource, name=None)\n",
      "  2040953433616: TensorSpec(shape=(), dtype=tf.resource, name=None)\n",
      "  2040953433424: TensorSpec(shape=(), dtype=tf.resource, name=None)\n",
      "  2040953433808: TensorSpec(shape=(), dtype=tf.resource, name=None)\n",
      "  2040953431312: TensorSpec(shape=(), dtype=tf.resource, name=None)\n",
      "  2040953433040: TensorSpec(shape=(), dtype=tf.resource, name=None)\n",
      "  2040953434576: TensorSpec(shape=(), dtype=tf.resource, name=None)\n",
      "  2040953434384: TensorSpec(shape=(), dtype=tf.resource, name=None)\n",
      "  2040953434768: TensorSpec(shape=(), dtype=tf.resource, name=None)\n",
      "  2040953432272: TensorSpec(shape=(), dtype=tf.resource, name=None)\n",
      "  2040953434000: TensorSpec(shape=(), dtype=tf.resource, name=None)\n",
      "  2040953435536: TensorSpec(shape=(), dtype=tf.resource, name=None)\n",
      "  2040953435344: TensorSpec(shape=(), dtype=tf.resource, name=None)\n",
      "  2040953435728: TensorSpec(shape=(), dtype=tf.resource, name=None)\n",
      "  2040953433232: TensorSpec(shape=(), dtype=tf.resource, name=None)\n",
      "  2040953434960: TensorSpec(shape=(), dtype=tf.resource, name=None)\n",
      "  2040953436496: TensorSpec(shape=(), dtype=tf.resource, name=None)\n",
      "  2040953436304: TensorSpec(shape=(), dtype=tf.resource, name=None)\n",
      "  2040953436688: TensorSpec(shape=(), dtype=tf.resource, name=None)\n",
      "  2040953434192: TensorSpec(shape=(), dtype=tf.resource, name=None)\n",
      "  2040953435920: TensorSpec(shape=(), dtype=tf.resource, name=None)\n",
      "  2040953437456: TensorSpec(shape=(), dtype=tf.resource, name=None)\n",
      "  2040953437264: TensorSpec(shape=(), dtype=tf.resource, name=None)\n",
      "  2040953437648: TensorSpec(shape=(), dtype=tf.resource, name=None)\n",
      "  2040953435152: TensorSpec(shape=(), dtype=tf.resource, name=None)\n",
      "  2040953436880: TensorSpec(shape=(), dtype=tf.resource, name=None)\n",
      "  2040953437840: TensorSpec(shape=(), dtype=tf.resource, name=None)\n",
      "  2040953436112: TensorSpec(shape=(), dtype=tf.resource, name=None)\n",
      "  2040953437072: TensorSpec(shape=(), dtype=tf.resource, name=None)\n",
      "  2040953438032: TensorSpec(shape=(), dtype=tf.resource, name=None)\n",
      "  2040952717776: TensorSpec(shape=(), dtype=tf.resource, name=None)\n",
      "  2040952718544: TensorSpec(shape=(), dtype=tf.resource, name=None)\n",
      "  2040952718352: TensorSpec(shape=(), dtype=tf.resource, name=None)\n",
      "  2040952718736: TensorSpec(shape=(), dtype=tf.resource, name=None)\n",
      "  2040952717584: TensorSpec(shape=(), dtype=tf.resource, name=None)\n",
      "  2040952717968: TensorSpec(shape=(), dtype=tf.resource, name=None)\n",
      "  2040952719504: TensorSpec(shape=(), dtype=tf.resource, name=None)\n",
      "  2040952719312: TensorSpec(shape=(), dtype=tf.resource, name=None)\n",
      "  2040952719696: TensorSpec(shape=(), dtype=tf.resource, name=None)\n",
      "  2040952717392: TensorSpec(shape=(), dtype=tf.resource, name=None)\n",
      "  2040952718928: TensorSpec(shape=(), dtype=tf.resource, name=None)\n",
      "  2040952720464: TensorSpec(shape=(), dtype=tf.resource, name=None)\n",
      "  2040952720272: TensorSpec(shape=(), dtype=tf.resource, name=None)\n",
      "  2040952720656: TensorSpec(shape=(), dtype=tf.resource, name=None)\n",
      "  2040952718160: TensorSpec(shape=(), dtype=tf.resource, name=None)\n",
      "  2040952719888: TensorSpec(shape=(), dtype=tf.resource, name=None)\n",
      "  2040952721424: TensorSpec(shape=(), dtype=tf.resource, name=None)\n",
      "  2040952721232: TensorSpec(shape=(), dtype=tf.resource, name=None)\n",
      "  2040952721616: TensorSpec(shape=(), dtype=tf.resource, name=None)\n",
      "  2040952719120: TensorSpec(shape=(), dtype=tf.resource, name=None)\n",
      "  2040952720848: TensorSpec(shape=(), dtype=tf.resource, name=None)\n",
      "  2040952722384: TensorSpec(shape=(), dtype=tf.resource, name=None)\n",
      "  2040952722192: TensorSpec(shape=(), dtype=tf.resource, name=None)\n",
      "  2040952722576: TensorSpec(shape=(), dtype=tf.resource, name=None)\n",
      "  2040952720080: TensorSpec(shape=(), dtype=tf.resource, name=None)\n",
      "  2040952721808: TensorSpec(shape=(), dtype=tf.resource, name=None)\n",
      "  2040952723344: TensorSpec(shape=(), dtype=tf.resource, name=None)\n",
      "  2040952723152: TensorSpec(shape=(), dtype=tf.resource, name=None)\n",
      "  2040952723536: TensorSpec(shape=(), dtype=tf.resource, name=None)\n",
      "  2040952721040: TensorSpec(shape=(), dtype=tf.resource, name=None)\n",
      "  2040952722768: TensorSpec(shape=(), dtype=tf.resource, name=None)\n",
      "  2040952724304: TensorSpec(shape=(), dtype=tf.resource, name=None)\n",
      "  2040952724112: TensorSpec(shape=(), dtype=tf.resource, name=None)\n",
      "  2040952724496: TensorSpec(shape=(), dtype=tf.resource, name=None)\n",
      "  2040952722000: TensorSpec(shape=(), dtype=tf.resource, name=None)\n",
      "  2040952723728: TensorSpec(shape=(), dtype=tf.resource, name=None)\n",
      "  2040952725264: TensorSpec(shape=(), dtype=tf.resource, name=None)\n",
      "  2040952725072: TensorSpec(shape=(), dtype=tf.resource, name=None)\n",
      "  2040952725456: TensorSpec(shape=(), dtype=tf.resource, name=None)\n",
      "  2040952722960: TensorSpec(shape=(), dtype=tf.resource, name=None)\n",
      "  2040952724688: TensorSpec(shape=(), dtype=tf.resource, name=None)\n",
      "  2040952726224: TensorSpec(shape=(), dtype=tf.resource, name=None)\n",
      "  2040952726032: TensorSpec(shape=(), dtype=tf.resource, name=None)\n",
      "  2040952726416: TensorSpec(shape=(), dtype=tf.resource, name=None)\n",
      "  2040952723920: TensorSpec(shape=(), dtype=tf.resource, name=None)\n",
      "  2040952725648: TensorSpec(shape=(), dtype=tf.resource, name=None)\n",
      "  2040952727184: TensorSpec(shape=(), dtype=tf.resource, name=None)\n",
      "  2040952726992: TensorSpec(shape=(), dtype=tf.resource, name=None)\n",
      "  2040952727376: TensorSpec(shape=(), dtype=tf.resource, name=None)\n",
      "  2040952724880: TensorSpec(shape=(), dtype=tf.resource, name=None)\n",
      "  2040952726608: TensorSpec(shape=(), dtype=tf.resource, name=None)\n",
      "  2040952728144: TensorSpec(shape=(), dtype=tf.resource, name=None)\n",
      "  2040952727952: TensorSpec(shape=(), dtype=tf.resource, name=None)\n",
      "  2040952728336: TensorSpec(shape=(), dtype=tf.resource, name=None)\n",
      "  2040952725840: TensorSpec(shape=(), dtype=tf.resource, name=None)\n",
      "  2040952727568: TensorSpec(shape=(), dtype=tf.resource, name=None)\n",
      "  2040952729104: TensorSpec(shape=(), dtype=tf.resource, name=None)\n",
      "  2040952728912: TensorSpec(shape=(), dtype=tf.resource, name=None)\n",
      "  2040952729296: TensorSpec(shape=(), dtype=tf.resource, name=None)\n",
      "  2040952726800: TensorSpec(shape=(), dtype=tf.resource, name=None)\n",
      "  2040952728528: TensorSpec(shape=(), dtype=tf.resource, name=None)\n",
      "  2040952730064: TensorSpec(shape=(), dtype=tf.resource, name=None)\n",
      "  2040952729872: TensorSpec(shape=(), dtype=tf.resource, name=None)\n",
      "  2040952730256: TensorSpec(shape=(), dtype=tf.resource, name=None)\n",
      "  2040952727760: TensorSpec(shape=(), dtype=tf.resource, name=None)\n",
      "  2040952729488: TensorSpec(shape=(), dtype=tf.resource, name=None)\n",
      "  2040952731024: TensorSpec(shape=(), dtype=tf.resource, name=None)\n",
      "  2040952730832: TensorSpec(shape=(), dtype=tf.resource, name=None)\n",
      "  2040952731216: TensorSpec(shape=(), dtype=tf.resource, name=None)\n",
      "  2040952728720: TensorSpec(shape=(), dtype=tf.resource, name=None)\n",
      "  2040952730448: TensorSpec(shape=(), dtype=tf.resource, name=None)\n",
      "  2040952731984: TensorSpec(shape=(), dtype=tf.resource, name=None)\n",
      "  2040952731792: TensorSpec(shape=(), dtype=tf.resource, name=None)\n",
      "  2040952732176: TensorSpec(shape=(), dtype=tf.resource, name=None)\n",
      "  2040952729680: TensorSpec(shape=(), dtype=tf.resource, name=None)\n",
      "  2040952731408: TensorSpec(shape=(), dtype=tf.resource, name=None)\n",
      "  2040952732944: TensorSpec(shape=(), dtype=tf.resource, name=None)\n",
      "  2040952732752: TensorSpec(shape=(), dtype=tf.resource, name=None)\n",
      "  2040952733136: TensorSpec(shape=(), dtype=tf.resource, name=None)\n",
      "  2040952730640: TensorSpec(shape=(), dtype=tf.resource, name=None)\n",
      "  2040952732368: TensorSpec(shape=(), dtype=tf.resource, name=None)\n",
      "  2040952733328: TensorSpec(shape=(), dtype=tf.resource, name=None)\n",
      "  2040952731600: TensorSpec(shape=(), dtype=tf.resource, name=None)\n",
      "  2040952732560: TensorSpec(shape=(), dtype=tf.resource, name=None)\n",
      "  2040952733520: TensorSpec(shape=(), dtype=tf.resource, name=None)\n",
      "  2040950014416: TensorSpec(shape=(), dtype=tf.resource, name=None)\n",
      "  2040950015184: TensorSpec(shape=(), dtype=tf.resource, name=None)\n",
      "  2040950014992: TensorSpec(shape=(), dtype=tf.resource, name=None)\n",
      "  2040950015376: TensorSpec(shape=(), dtype=tf.resource, name=None)\n",
      "  2040950014224: TensorSpec(shape=(), dtype=tf.resource, name=None)\n",
      "  2040950014608: TensorSpec(shape=(), dtype=tf.resource, name=None)\n",
      "  2040950016144: TensorSpec(shape=(), dtype=tf.resource, name=None)\n",
      "  2040950015952: TensorSpec(shape=(), dtype=tf.resource, name=None)\n",
      "  2040950016336: TensorSpec(shape=(), dtype=tf.resource, name=None)\n",
      "  2040950014032: TensorSpec(shape=(), dtype=tf.resource, name=None)\n",
      "  2040950015568: TensorSpec(shape=(), dtype=tf.resource, name=None)\n",
      "  2040950017104: TensorSpec(shape=(), dtype=tf.resource, name=None)\n",
      "  2040950016912: TensorSpec(shape=(), dtype=tf.resource, name=None)\n",
      "  2040950017296: TensorSpec(shape=(), dtype=tf.resource, name=None)\n",
      "  2040950014800: TensorSpec(shape=(), dtype=tf.resource, name=None)\n",
      "  2040950016528: TensorSpec(shape=(), dtype=tf.resource, name=None)\n",
      "  2040950018064: TensorSpec(shape=(), dtype=tf.resource, name=None)\n",
      "  2040950017872: TensorSpec(shape=(), dtype=tf.resource, name=None)\n",
      "  2040950018256: TensorSpec(shape=(), dtype=tf.resource, name=None)\n",
      "  2040950015760: TensorSpec(shape=(), dtype=tf.resource, name=None)\n",
      "  2040950017488: TensorSpec(shape=(), dtype=tf.resource, name=None)\n",
      "  2040950019024: TensorSpec(shape=(), dtype=tf.resource, name=None)\n",
      "  2040950018832: TensorSpec(shape=(), dtype=tf.resource, name=None)\n",
      "  2040950019216: TensorSpec(shape=(), dtype=tf.resource, name=None)\n",
      "  2040950016720: TensorSpec(shape=(), dtype=tf.resource, name=None)\n",
      "  2040950018448: TensorSpec(shape=(), dtype=tf.resource, name=None)\n",
      "  2040950019984: TensorSpec(shape=(), dtype=tf.resource, name=None)\n",
      "  2040950019792: TensorSpec(shape=(), dtype=tf.resource, name=None)\n",
      "  2040950020176: TensorSpec(shape=(), dtype=tf.resource, name=None)\n",
      "  2040950017680: TensorSpec(shape=(), dtype=tf.resource, name=None)\n",
      "  2040950019408: TensorSpec(shape=(), dtype=tf.resource, name=None)\n",
      "  2040950020944: TensorSpec(shape=(), dtype=tf.resource, name=None)\n",
      "  2040950020752: TensorSpec(shape=(), dtype=tf.resource, name=None)\n",
      "  2040950021136: TensorSpec(shape=(), dtype=tf.resource, name=None)\n",
      "  2040950018640: TensorSpec(shape=(), dtype=tf.resource, name=None)\n",
      "  2040950020560: TensorSpec(shape=(), dtype=tf.resource, name=None)\n",
      "  2040950022096: TensorSpec(shape=(), dtype=tf.resource, name=None)\n",
      "  2040950021712: TensorSpec(shape=(), dtype=tf.resource, name=None)\n",
      "  2040950022672: TensorSpec(shape=(), dtype=tf.resource, name=None)\n",
      "  2040950022288: TensorSpec(shape=(), dtype=tf.resource, name=None)\n",
      "  2040950023248: TensorSpec(shape=(), dtype=tf.resource, name=None)\n"
     ]
    }
   ],
   "source": [
    "# Buat converter\n",
    "converter = tf.lite.TFLiteConverter.from_keras_model(model)\n",
    "\n",
    "# (Optional) Optimisasi ukuran\n",
    "converter.optimizations = [tf.lite.Optimize.DEFAULT]\n",
    "\n",
    "# Konversi\n",
    "tflite_model = converter.convert()\n",
    "\n",
    "# Simpan model .tflite\n",
    "with open('model.tflite', 'wb') as f:\n",
    "    f.write(tflite_model)"
   ]
  },
  {
   "cell_type": "code",
   "execution_count": 67,
   "id": "86c3ddc9",
   "metadata": {},
   "outputs": [
    {
     "name": "stdout",
     "output_type": "stream",
     "text": [
      "2.20.0\n"
     ]
    }
   ],
   "source": [
    "print(tf.__version__)"
   ]
  },
  {
   "cell_type": "code",
   "execution_count": 68,
   "id": "322d1a70",
   "metadata": {},
   "outputs": [
    {
     "name": "stdout",
     "output_type": "stream",
     "text": [
      "{'Sampah-Anorganik': 0, 'Sampah-B3': 1, 'Sampah-Elektronik': 2, 'Sampah-Organik': 3, 'Sampah-Residu': 4}\n"
     ]
    }
   ],
   "source": [
    "class_names = train_generator.class_indices\n",
    "print(class_names)"
   ]
  },
  {
   "cell_type": "code",
   "execution_count": 73,
   "id": "f94ec724",
   "metadata": {},
   "outputs": [
    {
     "name": "stdout",
     "output_type": "stream",
     "text": [
      "Prediksi: elektronik (0.94)\n"
     ]
    }
   ],
   "source": [
    "# Load model\n",
    "interpreter = tf.lite.Interpreter(model_path=\"model.tflite\")\n",
    "interpreter.allocate_tensors()\n",
    "\n",
    "# Ambil detail input & output\n",
    "input_details = interpreter.get_input_details()\n",
    "output_details = interpreter.get_output_details()\n",
    "\n",
    "labels = [\"anorganik\", \"b3\", \"elektronik\", \"organik\", \"residu\"]\n",
    "\n",
    "# Fungsi preprocessing gambar\n",
    "def preprocess_image(image_path, input_shape):\n",
    "    img = Image.open(image_path).convert(\"RGB\")\n",
    "    img = img.resize((input_shape[1], input_shape[2]))\n",
    "    img = np.array(img, dtype=input_details[0]['dtype'])\n",
    "    img = np.expand_dims(img, axis=0) \n",
    "    return img\n",
    "\n",
    "# Uji 1 gambar\n",
    "image_path = \"3.jpg\"\n",
    "input_shape = input_details[0]['shape']\n",
    "img = preprocess_image(image_path, input_shape)\n",
    "\n",
    "# Set input\n",
    "interpreter.set_tensor(input_details[0]['index'], img)\n",
    "\n",
    "# Run inference\n",
    "interpreter.invoke()\n",
    "\n",
    "# Ambil output\n",
    "output_data = interpreter.get_tensor(output_details[0]['index'])[0]\n",
    "pred_idx = np.argmax(output_data)\n",
    "pred_label = labels[pred_idx]\n",
    "confidence = output_data[pred_idx]\n",
    "\n",
    "print(f\"Prediksi: {pred_label} ({confidence:.2f})\")\n"
   ]
  }
 ],
 "metadata": {
  "kernelspec": {
   "display_name": "Python 3",
   "language": "python",
   "name": "python3"
  },
  "language_info": {
   "codemirror_mode": {
    "name": "ipython",
    "version": 3
   },
   "file_extension": ".py",
   "mimetype": "text/x-python",
   "name": "python",
   "nbconvert_exporter": "python",
   "pygments_lexer": "ipython3",
   "version": "3.13.5"
  }
 },
 "nbformat": 4,
 "nbformat_minor": 5
}
